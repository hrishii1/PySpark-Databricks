{
 "cells": [
  {
   "cell_type": "markdown",
   "metadata": {
    "application/vnd.databricks.v1+cell": {
     "cellMetadata": {},
     "inputWidgets": {},
     "nuid": "93e63dde-0123-456b-9189-e1b661f07773",
     "showTitle": false,
     "tableResultSettingsMap": {},
     "title": ""
    }
   },
   "source": [
    "\n",
    "**Dataframe creation **\n"
   ]
  },
  {
   "cell_type": "code",
   "execution_count": 0,
   "metadata": {
    "application/vnd.databricks.v1+cell": {
     "cellMetadata": {
      "byteLimit": 2048000,
      "rowLimit": 10000
     },
     "inputWidgets": {},
     "nuid": "53849e00-a828-4954-b96c-b385fc99d33e",
     "showTitle": false,
     "tableResultSettingsMap": {},
     "title": ""
    }
   },
   "outputs": [
    {
     "output_type": "display_data",
     "data": {
      "text/html": [
       "<style scoped>\n",
       "  .table-result-container {\n",
       "    max-height: 300px;\n",
       "    overflow: auto;\n",
       "  }\n",
       "  table, th, td {\n",
       "    border: 1px solid black;\n",
       "    border-collapse: collapse;\n",
       "  }\n",
       "  th, td {\n",
       "    padding: 5px;\n",
       "  }\n",
       "  th {\n",
       "    text-align: left;\n",
       "  }\n",
       "</style><div class='table-result-container'><table class='table-result'><thead style='background-color: white'><tr><th>id</th><th>state</th><th>city</th><th>seater</th><th>charge</th></tr></thead><tbody><tr><td>1</td><td>Jharkhand</td><td>Jamshedpur</td><td>4</td><td>3000</td></tr><tr><td>2</td><td>Bihar</td><td>Purnea</td><td>3</td><td>2250</td></tr><tr><td>3</td><td>Jharkhand</td><td>Jamshedpur</td><td>4</td><td>3000</td></tr><tr><td>4</td><td>West Bengal</td><td>Kolkata</td><td>2</td><td>1750</td></tr><tr><td>5</td><td>West Bengal</td><td>Siliguri</td><td>4</td><td>3500</td></tr><tr><td>6</td><td>Jharkhand</td><td>Ranchi</td><td>4</td><td>3000</td></tr><tr><td>7</td><td>Bihar</td><td>Sasaram</td><td>3</td><td>2100</td></tr></tbody></table></div>"
      ]
     },
     "metadata": {
      "application/vnd.databricks.v1+output": {
       "addedWidgets": {},
       "aggData": [],
       "aggError": "",
       "aggOverflow": false,
       "aggSchema": [],
       "aggSeriesLimitReached": false,
       "aggType": "",
       "arguments": {},
       "columnCustomDisplayInfos": {},
       "data": [
        [
         1,
         "Jharkhand",
         "Jamshedpur",
         4,
         3000
        ],
        [
         2,
         "Bihar",
         "Purnea",
         3,
         2250
        ],
        [
         3,
         "Jharkhand",
         "Jamshedpur",
         4,
         3000
        ],
        [
         4,
         "West Bengal",
         "Kolkata",
         2,
         1750
        ],
        [
         5,
         "West Bengal",
         "Siliguri",
         4,
         3500
        ],
        [
         6,
         "Jharkhand",
         "Ranchi",
         4,
         3000
        ],
        [
         7,
         "Bihar",
         "Sasaram",
         3,
         2100
        ]
       ],
       "datasetInfos": [],
       "dbfsResultPath": null,
       "isJsonSchema": true,
       "metadata": {},
       "overflow": false,
       "plotOptions": {
        "customPlotOptions": {},
        "displayType": "table",
        "pivotAggregation": null,
        "pivotColumns": null,
        "xColumns": null,
        "yColumns": null
       },
       "removedWidgets": [],
       "schema": [
        {
         "metadata": "{}",
         "name": "id",
         "type": "\"long\""
        },
        {
         "metadata": "{}",
         "name": "state",
         "type": "\"string\""
        },
        {
         "metadata": "{}",
         "name": "city",
         "type": "\"string\""
        },
        {
         "metadata": "{}",
         "name": "seater",
         "type": "\"long\""
        },
        {
         "metadata": "{}",
         "name": "charge",
         "type": "\"long\""
        }
       ],
       "type": "table"
      }
     },
     "output_type": "display_data"
    }
   ],
   "source": [
    "cab_details = [(1,'Jharkhand','Jamshedpur',4,3000),\n",
    "(2,'Bihar','Purnea',3,2250),\n",
    "(3,'Jharkhand','Jamshedpur',4,3000),\n",
    "(4,'West Bengal','Kolkata',2,1750),\n",
    "(5,'West Bengal','Siliguri',4,3500),\n",
    "(6,'Jharkhand','Ranchi',4,3000),\n",
    "(7,'Bihar','Sasaram',3,2100)]\n",
    "\n",
    "cab_schema= [\"id\", \"state\", \"city\", \"seater\", \"charge\"]\n",
    "cabDF = spark.createDataFrame(data= cab_details, schema = cab_schema)\n",
    "display(cabDF) "
   ]
  },
  {
   "cell_type": "markdown",
   "metadata": {
    "application/vnd.databricks.v1+cell": {
     "cellMetadata": {},
     "inputWidgets": {},
     "nuid": "49e5cc72-3f62-4f1c-87ab-9db9fada7da4",
     "showTitle": false,
     "tableResultSettingsMap": {},
     "title": ""
    }
   },
   "source": [
    "SINGLE FILTER CONDITION \n"
   ]
  },
  {
   "cell_type": "code",
   "execution_count": 0,
   "metadata": {
    "application/vnd.databricks.v1+cell": {
     "cellMetadata": {
      "byteLimit": 2048000,
      "rowLimit": 10000
     },
     "inputWidgets": {},
     "nuid": "0592f520-43f1-48ff-96b2-b9d4a46dbf6b",
     "showTitle": false,
     "tableResultSettingsMap": {},
     "title": ""
    }
   },
   "outputs": [
    {
     "output_type": "display_data",
     "data": {
      "text/html": [
       "<style scoped>\n",
       "  .table-result-container {\n",
       "    max-height: 300px;\n",
       "    overflow: auto;\n",
       "  }\n",
       "  table, th, td {\n",
       "    border: 1px solid black;\n",
       "    border-collapse: collapse;\n",
       "  }\n",
       "  th, td {\n",
       "    padding: 5px;\n",
       "  }\n",
       "  th {\n",
       "    text-align: left;\n",
       "  }\n",
       "</style><div class='table-result-container'><table class='table-result'><thead style='background-color: white'><tr><th>id</th><th>state</th><th>city</th><th>seater</th><th>charge</th></tr></thead><tbody><tr><td>1</td><td>Jharkhand</td><td>Jamshedpur</td><td>4</td><td>3000</td></tr><tr><td>2</td><td>Bihar</td><td>Purnea</td><td>3</td><td>2250</td></tr><tr><td>3</td><td>Jharkhand</td><td>Jamshedpur</td><td>4</td><td>3000</td></tr><tr><td>4</td><td>West Bengal</td><td>Kolkata</td><td>2</td><td>1750</td></tr><tr><td>5</td><td>West Bengal</td><td>Siliguri</td><td>4</td><td>3500</td></tr><tr><td>6</td><td>Jharkhand</td><td>Ranchi</td><td>4</td><td>3000</td></tr><tr><td>7</td><td>Bihar</td><td>Sasaram</td><td>3</td><td>2100</td></tr></tbody></table></div>"
      ]
     },
     "metadata": {
      "application/vnd.databricks.v1+output": {
       "addedWidgets": {},
       "aggData": [],
       "aggError": "",
       "aggOverflow": false,
       "aggSchema": [],
       "aggSeriesLimitReached": false,
       "aggType": "",
       "arguments": {},
       "columnCustomDisplayInfos": {},
       "data": [
        [
         1,
         "Jharkhand",
         "Jamshedpur",
         4,
         3000
        ],
        [
         2,
         "Bihar",
         "Purnea",
         3,
         2250
        ],
        [
         3,
         "Jharkhand",
         "Jamshedpur",
         4,
         3000
        ],
        [
         4,
         "West Bengal",
         "Kolkata",
         2,
         1750
        ],
        [
         5,
         "West Bengal",
         "Siliguri",
         4,
         3500
        ],
        [
         6,
         "Jharkhand",
         "Ranchi",
         4,
         3000
        ],
        [
         7,
         "Bihar",
         "Sasaram",
         3,
         2100
        ]
       ],
       "datasetInfos": [],
       "dbfsResultPath": null,
       "isJsonSchema": true,
       "metadata": {},
       "overflow": false,
       "plotOptions": {
        "customPlotOptions": {},
        "displayType": "table",
        "pivotAggregation": null,
        "pivotColumns": null,
        "xColumns": null,
        "yColumns": null
       },
       "removedWidgets": [],
       "schema": [
        {
         "metadata": "{}",
         "name": "id",
         "type": "\"long\""
        },
        {
         "metadata": "{}",
         "name": "state",
         "type": "\"string\""
        },
        {
         "metadata": "{}",
         "name": "city",
         "type": "\"string\""
        },
        {
         "metadata": "{}",
         "name": "seater",
         "type": "\"long\""
        },
        {
         "metadata": "{}",
         "name": "charge",
         "type": "\"long\""
        }
       ],
       "type": "table"
      }
     },
     "output_type": "display_data"
    },
    {
     "output_type": "display_data",
     "data": {
      "text/html": [
       "<style scoped>\n",
       "  .table-result-container {\n",
       "    max-height: 300px;\n",
       "    overflow: auto;\n",
       "  }\n",
       "  table, th, td {\n",
       "    border: 1px solid black;\n",
       "    border-collapse: collapse;\n",
       "  }\n",
       "  th, td {\n",
       "    padding: 5px;\n",
       "  }\n",
       "  th {\n",
       "    text-align: left;\n",
       "  }\n",
       "</style><div class='table-result-container'><table class='table-result'><thead style='background-color: white'><tr><th>id</th><th>state</th><th>city</th><th>seater</th><th>charge</th></tr></thead><tbody><tr><td>1</td><td>Jharkhand</td><td>Jamshedpur</td><td>4</td><td>3000</td></tr><tr><td>3</td><td>Jharkhand</td><td>Jamshedpur</td><td>4</td><td>3000</td></tr><tr><td>6</td><td>Jharkhand</td><td>Ranchi</td><td>4</td><td>3000</td></tr></tbody></table></div>"
      ]
     },
     "metadata": {
      "application/vnd.databricks.v1+output": {
       "addedWidgets": {},
       "aggData": [],
       "aggError": "",
       "aggOverflow": false,
       "aggSchema": [],
       "aggSeriesLimitReached": false,
       "aggType": "",
       "arguments": {},
       "columnCustomDisplayInfos": {},
       "data": [
        [
         1,
         "Jharkhand",
         "Jamshedpur",
         4,
         3000
        ],
        [
         3,
         "Jharkhand",
         "Jamshedpur",
         4,
         3000
        ],
        [
         6,
         "Jharkhand",
         "Ranchi",
         4,
         3000
        ]
       ],
       "datasetInfos": [],
       "dbfsResultPath": null,
       "isJsonSchema": true,
       "metadata": {},
       "overflow": false,
       "plotOptions": {
        "customPlotOptions": {},
        "displayType": "table",
        "pivotAggregation": null,
        "pivotColumns": null,
        "xColumns": null,
        "yColumns": null
       },
       "removedWidgets": [],
       "schema": [
        {
         "metadata": "{}",
         "name": "id",
         "type": "\"long\""
        },
        {
         "metadata": "{}",
         "name": "state",
         "type": "\"string\""
        },
        {
         "metadata": "{}",
         "name": "city",
         "type": "\"string\""
        },
        {
         "metadata": "{}",
         "name": "seater",
         "type": "\"long\""
        },
        {
         "metadata": "{}",
         "name": "charge",
         "type": "\"long\""
        }
       ],
       "type": "table"
      }
     },
     "output_type": "display_data"
    }
   ],
   "source": [
    "display(cabDF)\n",
    "\n",
    "display (cabDF.filter(cabDF.charge == 3000))"
   ]
  },
  {
   "cell_type": "markdown",
   "metadata": {
    "application/vnd.databricks.v1+cell": {
     "cellMetadata": {},
     "inputWidgets": {},
     "nuid": "86e79404-969a-4f7d-bf90-5673d25178ba",
     "showTitle": false,
     "tableResultSettingsMap": {},
     "title": ""
    }
   },
   "source": [
    "**Combination of TWO FILTERS **"
   ]
  },
  {
   "cell_type": "code",
   "execution_count": 0,
   "metadata": {
    "application/vnd.databricks.v1+cell": {
     "cellMetadata": {
      "byteLimit": 2048000,
      "rowLimit": 10000
     },
     "inputWidgets": {},
     "nuid": "b64f4fb5-cd77-4ed5-9178-d222a5b75e0f",
     "showTitle": false,
     "tableResultSettingsMap": {},
     "title": ""
    }
   },
   "outputs": [
    {
     "output_type": "display_data",
     "data": {
      "text/html": [
       "<style scoped>\n",
       "  .table-result-container {\n",
       "    max-height: 300px;\n",
       "    overflow: auto;\n",
       "  }\n",
       "  table, th, td {\n",
       "    border: 1px solid black;\n",
       "    border-collapse: collapse;\n",
       "  }\n",
       "  th, td {\n",
       "    padding: 5px;\n",
       "  }\n",
       "  th {\n",
       "    text-align: left;\n",
       "  }\n",
       "</style><div class='table-result-container'><table class='table-result'><thead style='background-color: white'><tr><th>id</th><th>state</th><th>city</th><th>seater</th><th>charge</th></tr></thead><tbody><tr><td>1</td><td>Jharkhand</td><td>Jamshedpur</td><td>4</td><td>3000</td></tr><tr><td>3</td><td>Jharkhand</td><td>Jamshedpur</td><td>4</td><td>3000</td></tr><tr><td>6</td><td>Jharkhand</td><td>Ranchi</td><td>4</td><td>3000</td></tr></tbody></table></div>"
      ]
     },
     "metadata": {
      "application/vnd.databricks.v1+output": {
       "addedWidgets": {},
       "aggData": [],
       "aggError": "",
       "aggOverflow": false,
       "aggSchema": [],
       "aggSeriesLimitReached": false,
       "aggType": "",
       "arguments": {},
       "columnCustomDisplayInfos": {},
       "data": [
        [
         1,
         "Jharkhand",
         "Jamshedpur",
         4,
         3000
        ],
        [
         3,
         "Jharkhand",
         "Jamshedpur",
         4,
         3000
        ],
        [
         6,
         "Jharkhand",
         "Ranchi",
         4,
         3000
        ]
       ],
       "datasetInfos": [],
       "dbfsResultPath": null,
       "isJsonSchema": true,
       "metadata": {},
       "overflow": false,
       "plotOptions": {
        "customPlotOptions": {},
        "displayType": "table",
        "pivotAggregation": null,
        "pivotColumns": null,
        "xColumns": null,
        "yColumns": null
       },
       "removedWidgets": [],
       "schema": [
        {
         "metadata": "{}",
         "name": "id",
         "type": "\"long\""
        },
        {
         "metadata": "{}",
         "name": "state",
         "type": "\"string\""
        },
        {
         "metadata": "{}",
         "name": "city",
         "type": "\"string\""
        },
        {
         "metadata": "{}",
         "name": "seater",
         "type": "\"long\""
        },
        {
         "metadata": "{}",
         "name": "charge",
         "type": "\"long\""
        }
       ],
       "type": "table"
      }
     },
     "output_type": "display_data"
    },
    {
     "output_type": "execute_result",
     "data": {
      "text/plain": [
       "Column<'and(`=`(city, Jamshedpur), NULL)'>"
      ]
     },
     "execution_count": 7,
     "metadata": {},
     "output_type": "execute_result"
    }
   ],
   "source": [
    "display (cabDF.filter(cabDF.charge == 3000)) & (cabDF.city == \"Jamshedpur\") # & (AND) | (OR) conditions "
   ]
  },
  {
   "cell_type": "markdown",
   "metadata": {
    "application/vnd.databricks.v1+cell": {
     "cellMetadata": {},
     "inputWidgets": {},
     "nuid": "caa673c0-8a00-4d75-b145-c3d0c659c046",
     "showTitle": false,
     "tableResultSettingsMap": {},
     "title": ""
    }
   },
   "source": [
    "STARTS /ENDS WITH FILTERING "
   ]
  },
  {
   "cell_type": "code",
   "execution_count": 0,
   "metadata": {
    "application/vnd.databricks.v1+cell": {
     "cellMetadata": {
      "byteLimit": 2048000,
      "rowLimit": 10000
     },
     "inputWidgets": {},
     "nuid": "f33e8124-3934-4450-a0a2-083162c4e633",
     "showTitle": false,
     "tableResultSettingsMap": {},
     "title": ""
    }
   },
   "outputs": [
    {
     "output_type": "display_data",
     "data": {
      "text/html": [
       "<style scoped>\n",
       "  .table-result-container {\n",
       "    max-height: 300px;\n",
       "    overflow: auto;\n",
       "  }\n",
       "  table, th, td {\n",
       "    border: 1px solid black;\n",
       "    border-collapse: collapse;\n",
       "  }\n",
       "  th, td {\n",
       "    padding: 5px;\n",
       "  }\n",
       "  th {\n",
       "    text-align: left;\n",
       "  }\n",
       "</style><div class='table-result-container'><table class='table-result'><thead style='background-color: white'><tr><th>id</th><th>state</th><th>city</th><th>seater</th><th>charge</th></tr></thead><tbody><tr><td>5</td><td>West Bengal</td><td>Siliguri</td><td>4</td><td>3500</td></tr><tr><td>6</td><td>Jharkhand</td><td>Ranchi</td><td>4</td><td>3000</td></tr></tbody></table></div>"
      ]
     },
     "metadata": {
      "application/vnd.databricks.v1+output": {
       "addedWidgets": {},
       "aggData": [],
       "aggError": "",
       "aggOverflow": false,
       "aggSchema": [],
       "aggSeriesLimitReached": false,
       "aggType": "",
       "arguments": {},
       "columnCustomDisplayInfos": {},
       "data": [
        [
         5,
         "West Bengal",
         "Siliguri",
         4,
         3500
        ],
        [
         6,
         "Jharkhand",
         "Ranchi",
         4,
         3000
        ]
       ],
       "datasetInfos": [],
       "dbfsResultPath": null,
       "isJsonSchema": true,
       "metadata": {},
       "overflow": false,
       "plotOptions": {
        "customPlotOptions": {},
        "displayType": "table",
        "pivotAggregation": null,
        "pivotColumns": null,
        "xColumns": null,
        "yColumns": null
       },
       "removedWidgets": [],
       "schema": [
        {
         "metadata": "{}",
         "name": "id",
         "type": "\"long\""
        },
        {
         "metadata": "{}",
         "name": "state",
         "type": "\"string\""
        },
        {
         "metadata": "{}",
         "name": "city",
         "type": "\"string\""
        },
        {
         "metadata": "{}",
         "name": "seater",
         "type": "\"long\""
        },
        {
         "metadata": "{}",
         "name": "charge",
         "type": "\"long\""
        }
       ],
       "type": "table"
      }
     },
     "output_type": "display_data"
    }
   ],
   "source": [
    "display(cabDF.filter(cabDF.city.endswith(\"i\"))) #startswith and endswith keyword "
   ]
  },
  {
   "cell_type": "markdown",
   "metadata": {
    "application/vnd.databricks.v1+cell": {
     "cellMetadata": {},
     "inputWidgets": {},
     "nuid": "ccd41257-8482-4973-b6d2-b2d3c6ba9211",
     "showTitle": false,
     "tableResultSettingsMap": {},
     "title": ""
    }
   },
   "source": [
    "ISNULL and ISNOTNULL FILTER "
   ]
  },
  {
   "cell_type": "code",
   "execution_count": 0,
   "metadata": {
    "application/vnd.databricks.v1+cell": {
     "cellMetadata": {
      "byteLimit": 2048000,
      "rowLimit": 10000
     },
     "inputWidgets": {},
     "nuid": "b0f00988-bcf2-4db9-9477-3627acd4d35c",
     "showTitle": false,
     "tableResultSettingsMap": {},
     "title": ""
    }
   },
   "outputs": [
    {
     "output_type": "display_data",
     "data": {
      "text/html": [
       "<style scoped>\n",
       "  .table-result-container {\n",
       "    max-height: 300px;\n",
       "    overflow: auto;\n",
       "  }\n",
       "  table, th, td {\n",
       "    border: 1px solid black;\n",
       "    border-collapse: collapse;\n",
       "  }\n",
       "  th, td {\n",
       "    padding: 5px;\n",
       "  }\n",
       "  th {\n",
       "    text-align: left;\n",
       "  }\n",
       "</style><div class='table-result-container'><table class='table-result'><thead style='background-color: white'><tr><th>id</th><th>state</th><th>city</th><th>seater</th><th>charge</th></tr></thead><tbody><tr><td>1</td><td>Jharkhand</td><td>Jamshedpur</td><td>4</td><td>3000</td></tr><tr><td>2</td><td>Bihar</td><td>Purnea</td><td>3</td><td>2250</td></tr><tr><td>3</td><td>Jharkhand</td><td>Jamshedpur</td><td>4</td><td>3000</td></tr><tr><td>4</td><td>West Bengal</td><td>Kolkata</td><td>2</td><td>1750</td></tr><tr><td>5</td><td>West Bengal</td><td>Siliguri</td><td>4</td><td>3500</td></tr><tr><td>6</td><td>Jharkhand</td><td>Ranchi</td><td>4</td><td>3000</td></tr><tr><td>7</td><td>Bihar</td><td>Sasaram</td><td>3</td><td>2100</td></tr></tbody></table></div>"
      ]
     },
     "metadata": {
      "application/vnd.databricks.v1+output": {
       "addedWidgets": {},
       "aggData": [],
       "aggError": "",
       "aggOverflow": false,
       "aggSchema": [],
       "aggSeriesLimitReached": false,
       "aggType": "",
       "arguments": {},
       "columnCustomDisplayInfos": {},
       "data": [
        [
         1,
         "Jharkhand",
         "Jamshedpur",
         4,
         3000
        ],
        [
         2,
         "Bihar",
         "Purnea",
         3,
         2250
        ],
        [
         3,
         "Jharkhand",
         "Jamshedpur",
         4,
         3000
        ],
        [
         4,
         "West Bengal",
         "Kolkata",
         2,
         1750
        ],
        [
         5,
         "West Bengal",
         "Siliguri",
         4,
         3500
        ],
        [
         6,
         "Jharkhand",
         "Ranchi",
         4,
         3000
        ],
        [
         7,
         "Bihar",
         "Sasaram",
         3,
         2100
        ]
       ],
       "datasetInfos": [],
       "dbfsResultPath": null,
       "isJsonSchema": true,
       "metadata": {},
       "overflow": false,
       "plotOptions": {
        "customPlotOptions": {},
        "displayType": "table",
        "pivotAggregation": null,
        "pivotColumns": null,
        "xColumns": null,
        "yColumns": null
       },
       "removedWidgets": [],
       "schema": [
        {
         "metadata": "{}",
         "name": "id",
         "type": "\"long\""
        },
        {
         "metadata": "{}",
         "name": "state",
         "type": "\"string\""
        },
        {
         "metadata": "{}",
         "name": "city",
         "type": "\"string\""
        },
        {
         "metadata": "{}",
         "name": "seater",
         "type": "\"long\""
        },
        {
         "metadata": "{}",
         "name": "charge",
         "type": "\"long\""
        }
       ],
       "type": "table"
      }
     },
     "output_type": "display_data"
    }
   ],
   "source": [
    "display(cabDF.filter(cabDF.city.isNotNull()))"
   ]
  },
  {
   "cell_type": "markdown",
   "metadata": {
    "application/vnd.databricks.v1+cell": {
     "cellMetadata": {},
     "inputWidgets": {},
     "nuid": "b687145d-3646-4640-a5a5-e45868e6e864",
     "showTitle": false,
     "tableResultSettingsMap": {},
     "title": ""
    }
   },
   "source": [
    "IS IN FILTER "
   ]
  },
  {
   "cell_type": "code",
   "execution_count": 0,
   "metadata": {
    "application/vnd.databricks.v1+cell": {
     "cellMetadata": {
      "byteLimit": 2048000,
      "rowLimit": 10000
     },
     "inputWidgets": {},
     "nuid": "758edf07-f275-406f-b500-bf65690cdc4a",
     "showTitle": false,
     "tableResultSettingsMap": {},
     "title": ""
    }
   },
   "outputs": [
    {
     "output_type": "display_data",
     "data": {
      "text/html": [
       "<style scoped>\n",
       "  .table-result-container {\n",
       "    max-height: 300px;\n",
       "    overflow: auto;\n",
       "  }\n",
       "  table, th, td {\n",
       "    border: 1px solid black;\n",
       "    border-collapse: collapse;\n",
       "  }\n",
       "  th, td {\n",
       "    padding: 5px;\n",
       "  }\n",
       "  th {\n",
       "    text-align: left;\n",
       "  }\n",
       "</style><div class='table-result-container'><table class='table-result'><thead style='background-color: white'><tr><th>id</th><th>state</th><th>city</th><th>seater</th><th>charge</th></tr></thead><tbody><tr><td>2</td><td>Bihar</td><td>Purnea</td><td>3</td><td>2250</td></tr><tr><td>4</td><td>West Bengal</td><td>Kolkata</td><td>2</td><td>1750</td></tr><tr><td>5</td><td>West Bengal</td><td>Siliguri</td><td>4</td><td>3500</td></tr><tr><td>7</td><td>Bihar</td><td>Sasaram</td><td>3</td><td>2100</td></tr></tbody></table></div>"
      ]
     },
     "metadata": {
      "application/vnd.databricks.v1+output": {
       "addedWidgets": {},
       "aggData": [],
       "aggError": "",
       "aggOverflow": false,
       "aggSchema": [],
       "aggSeriesLimitReached": false,
       "aggType": "",
       "arguments": {},
       "columnCustomDisplayInfos": {},
       "data": [
        [
         2,
         "Bihar",
         "Purnea",
         3,
         2250
        ],
        [
         4,
         "West Bengal",
         "Kolkata",
         2,
         1750
        ],
        [
         5,
         "West Bengal",
         "Siliguri",
         4,
         3500
        ],
        [
         7,
         "Bihar",
         "Sasaram",
         3,
         2100
        ]
       ],
       "datasetInfos": [],
       "dbfsResultPath": null,
       "isJsonSchema": true,
       "metadata": {},
       "overflow": false,
       "plotOptions": {
        "customPlotOptions": {},
        "displayType": "table",
        "pivotAggregation": null,
        "pivotColumns": null,
        "xColumns": null,
        "yColumns": null
       },
       "removedWidgets": [],
       "schema": [
        {
         "metadata": "{}",
         "name": "id",
         "type": "\"long\""
        },
        {
         "metadata": "{}",
         "name": "state",
         "type": "\"string\""
        },
        {
         "metadata": "{}",
         "name": "city",
         "type": "\"string\""
        },
        {
         "metadata": "{}",
         "name": "seater",
         "type": "\"long\""
        },
        {
         "metadata": "{}",
         "name": "charge",
         "type": "\"long\""
        }
       ],
       "type": "table"
      }
     },
     "output_type": "display_data"
    }
   ],
   "source": [
    "display(cabDF.filter(~cabDF.charge.isin(3000)))  #isnot(~) symbol "
   ]
  },
  {
   "cell_type": "markdown",
   "metadata": {
    "application/vnd.databricks.v1+cell": {
     "cellMetadata": {},
     "inputWidgets": {},
     "nuid": "9fc999eb-65dc-4829-b502-caf1fd74d7b9",
     "showTitle": false,
     "tableResultSettingsMap": {},
     "title": ""
    }
   },
   "source": [
    "LIKE OPERATOR FILTER "
   ]
  },
  {
   "cell_type": "code",
   "execution_count": 0,
   "metadata": {
    "application/vnd.databricks.v1+cell": {
     "cellMetadata": {
      "byteLimit": 2048000,
      "rowLimit": 10000
     },
     "inputWidgets": {},
     "nuid": "3ad41489-4fb3-47bd-b4b9-eb5de83dbb0d",
     "showTitle": false,
     "tableResultSettingsMap": {},
     "title": ""
    }
   },
   "outputs": [
    {
     "output_type": "display_data",
     "data": {
      "text/html": [
       "<style scoped>\n",
       "  .table-result-container {\n",
       "    max-height: 300px;\n",
       "    overflow: auto;\n",
       "  }\n",
       "  table, th, td {\n",
       "    border: 1px solid black;\n",
       "    border-collapse: collapse;\n",
       "  }\n",
       "  th, td {\n",
       "    padding: 5px;\n",
       "  }\n",
       "  th {\n",
       "    text-align: left;\n",
       "  }\n",
       "</style><div class='table-result-container'><table class='table-result'><thead style='background-color: white'><tr><th>id</th><th>state</th><th>city</th><th>seater</th><th>charge</th></tr></thead><tbody><tr><td>6</td><td>Jharkhand</td><td>Ranchi</td><td>4</td><td>3000</td></tr></tbody></table></div>"
      ]
     },
     "metadata": {
      "application/vnd.databricks.v1+output": {
       "addedWidgets": {},
       "aggData": [],
       "aggError": "",
       "aggOverflow": false,
       "aggSchema": [],
       "aggSeriesLimitReached": false,
       "aggType": "",
       "arguments": {},
       "columnCustomDisplayInfos": {},
       "data": [
        [
         6,
         "Jharkhand",
         "Ranchi",
         4,
         3000
        ]
       ],
       "datasetInfos": [],
       "dbfsResultPath": null,
       "isJsonSchema": true,
       "metadata": {},
       "overflow": false,
       "plotOptions": {
        "customPlotOptions": {},
        "displayType": "table",
        "pivotAggregation": null,
        "pivotColumns": null,
        "xColumns": null,
        "yColumns": null
       },
       "removedWidgets": [],
       "schema": [
        {
         "metadata": "{}",
         "name": "id",
         "type": "\"long\""
        },
        {
         "metadata": "{}",
         "name": "state",
         "type": "\"string\""
        },
        {
         "metadata": "{}",
         "name": "city",
         "type": "\"string\""
        },
        {
         "metadata": "{}",
         "name": "seater",
         "type": "\"long\""
        },
        {
         "metadata": "{}",
         "name": "charge",
         "type": "\"long\""
        }
       ],
       "type": "table"
      }
     },
     "output_type": "display_data"
    }
   ],
   "source": [
    "display(cabDF.filter(cabDF.city.like(\"R%\"))) "
   ]
  },
  {
   "cell_type": "code",
   "execution_count": 0,
   "metadata": {
    "application/vnd.databricks.v1+cell": {
     "cellMetadata": {},
     "inputWidgets": {},
     "nuid": "e7907a88-0a18-403e-a08f-786ac81fa75f",
     "showTitle": false,
     "tableResultSettingsMap": {},
     "title": ""
    }
   },
   "outputs": [],
   "source": []
  },
  {
   "cell_type": "code",
   "execution_count": 0,
   "metadata": {
    "application/vnd.databricks.v1+cell": {
     "cellMetadata": {},
     "inputWidgets": {},
     "nuid": "48ddad4f-3944-4de0-866e-a581aa8a4d01",
     "showTitle": false,
     "tableResultSettingsMap": {},
     "title": ""
    }
   },
   "outputs": [],
   "source": []
  },
  {
   "cell_type": "code",
   "execution_count": 0,
   "metadata": {
    "application/vnd.databricks.v1+cell": {
     "cellMetadata": {},
     "inputWidgets": {},
     "nuid": "736f8db1-df9e-4acc-bc32-ebb10b5852d0",
     "showTitle": false,
     "tableResultSettingsMap": {},
     "title": ""
    }
   },
   "outputs": [],
   "source": []
  },
  {
   "cell_type": "code",
   "execution_count": 0,
   "metadata": {
    "application/vnd.databricks.v1+cell": {
     "cellMetadata": {},
     "inputWidgets": {},
     "nuid": "26a0aca3-729c-40e8-9c2c-c2f725f6bcef",
     "showTitle": false,
     "tableResultSettingsMap": {},
     "title": ""
    }
   },
   "outputs": [],
   "source": []
  },
  {
   "cell_type": "code",
   "execution_count": 0,
   "metadata": {
    "application/vnd.databricks.v1+cell": {
     "cellMetadata": {},
     "inputWidgets": {},
     "nuid": "4d5a1ab0-1277-4c03-848a-f3de53fdb6b0",
     "showTitle": false,
     "tableResultSettingsMap": {},
     "title": ""
    }
   },
   "outputs": [],
   "source": []
  },
  {
   "cell_type": "code",
   "execution_count": 0,
   "metadata": {
    "application/vnd.databricks.v1+cell": {
     "cellMetadata": {},
     "inputWidgets": {},
     "nuid": "243a40f7-2f39-411c-97a3-fe09576ec3d8",
     "showTitle": false,
     "tableResultSettingsMap": {},
     "title": ""
    }
   },
   "outputs": [],
   "source": []
  }
 ],
 "metadata": {
  "application/vnd.databricks.v1+notebook": {
   "computePreferences": null,
   "dashboards": [],
   "environmentMetadata": {
    "base_environment": "",
    "client": "1"
   },
   "language": "python",
   "notebookMetadata": {
    "pythonIndentUnit": 4
   },
   "notebookName": "Filtering",
   "widgets": {}
  }
 },
 "nbformat": 4,
 "nbformat_minor": 0
}
