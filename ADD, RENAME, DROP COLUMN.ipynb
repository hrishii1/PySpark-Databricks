{
 "cells": [
  {
   "cell_type": "markdown",
   "metadata": {
    "application/vnd.databricks.v1+cell": {
     "cellMetadata": {},
     "inputWidgets": {},
     "nuid": "93e63dde-0123-456b-9189-e1b661f07773",
     "showTitle": false,
     "tableResultSettingsMap": {},
     "title": ""
    }
   },
   "source": [
    "\n",
    "**Dataframe creation **\n"
   ]
  },
  {
   "cell_type": "code",
   "execution_count": 0,
   "metadata": {
    "application/vnd.databricks.v1+cell": {
     "cellMetadata": {
      "byteLimit": 2048000,
      "rowLimit": 10000
     },
     "inputWidgets": {},
     "nuid": "53849e00-a828-4954-b96c-b385fc99d33e",
     "showTitle": false,
     "tableResultSettingsMap": {},
     "title": ""
    }
   },
   "outputs": [
    {
     "output_type": "display_data",
     "data": {
      "text/html": [
       "<style scoped>\n",
       "  .table-result-container {\n",
       "    max-height: 300px;\n",
       "    overflow: auto;\n",
       "  }\n",
       "  table, th, td {\n",
       "    border: 1px solid black;\n",
       "    border-collapse: collapse;\n",
       "  }\n",
       "  th, td {\n",
       "    padding: 5px;\n",
       "  }\n",
       "  th {\n",
       "    text-align: left;\n",
       "  }\n",
       "</style><div class='table-result-container'><table class='table-result'><thead style='background-color: white'><tr><th>id</th><th>state</th><th>city</th><th>seater</th><th>charge</th></tr></thead><tbody><tr><td>1</td><td>Jharkhand</td><td>Jamshedpur</td><td>4</td><td>3000</td></tr><tr><td>2</td><td>Bihar</td><td>Purnea</td><td>3</td><td>2250</td></tr><tr><td>3</td><td>Jharkhand</td><td>Jamshedpur</td><td>4</td><td>3000</td></tr><tr><td>4</td><td>West Bengal</td><td>Kolkata</td><td>2</td><td>1750</td></tr><tr><td>5</td><td>West Bengal</td><td>Siliguri</td><td>4</td><td>3500</td></tr><tr><td>6</td><td>Jharkhand</td><td>Ranchi</td><td>4</td><td>3000</td></tr><tr><td>7</td><td>Bihar</td><td>Sasaram</td><td>3</td><td>2100</td></tr></tbody></table></div>"
      ]
     },
     "metadata": {
      "application/vnd.databricks.v1+output": {
       "addedWidgets": {},
       "aggData": [],
       "aggError": "",
       "aggOverflow": false,
       "aggSchema": [],
       "aggSeriesLimitReached": false,
       "aggType": "",
       "arguments": {},
       "columnCustomDisplayInfos": {},
       "data": [
        [
         1,
         "Jharkhand",
         "Jamshedpur",
         4,
         3000
        ],
        [
         2,
         "Bihar",
         "Purnea",
         3,
         2250
        ],
        [
         3,
         "Jharkhand",
         "Jamshedpur",
         4,
         3000
        ],
        [
         4,
         "West Bengal",
         "Kolkata",
         2,
         1750
        ],
        [
         5,
         "West Bengal",
         "Siliguri",
         4,
         3500
        ],
        [
         6,
         "Jharkhand",
         "Ranchi",
         4,
         3000
        ],
        [
         7,
         "Bihar",
         "Sasaram",
         3,
         2100
        ]
       ],
       "datasetInfos": [],
       "dbfsResultPath": null,
       "isJsonSchema": true,
       "metadata": {},
       "overflow": false,
       "plotOptions": {
        "customPlotOptions": {},
        "displayType": "table",
        "pivotAggregation": null,
        "pivotColumns": null,
        "xColumns": null,
        "yColumns": null
       },
       "removedWidgets": [],
       "schema": [
        {
         "metadata": "{}",
         "name": "id",
         "type": "\"long\""
        },
        {
         "metadata": "{}",
         "name": "state",
         "type": "\"string\""
        },
        {
         "metadata": "{}",
         "name": "city",
         "type": "\"string\""
        },
        {
         "metadata": "{}",
         "name": "seater",
         "type": "\"long\""
        },
        {
         "metadata": "{}",
         "name": "charge",
         "type": "\"long\""
        }
       ],
       "type": "table"
      }
     },
     "output_type": "display_data"
    }
   ],
   "source": [
    "cab_details = [(1,'Jharkhand','Jamshedpur',4,3000),\n",
    "(2,'Bihar','Purnea',3,2250),\n",
    "(3,'Jharkhand','Jamshedpur',4,3000),\n",
    "(4,'West Bengal','Kolkata',2,1750),\n",
    "(5,'West Bengal','Siliguri',4,3500),\n",
    "(6,'Jharkhand','Ranchi',4,3000),\n",
    "(7,'Bihar','Sasaram',3,2100)]\n",
    "\n",
    "cab_schema= [\"id\", \"state\", \"city\", \"seater\", \"charge\"]\n",
    "cabDF = spark.createDataFrame(data= cab_details, schema = cab_schema)\n",
    "display(cabDF) "
   ]
  },
  {
   "cell_type": "markdown",
   "metadata": {
    "application/vnd.databricks.v1+cell": {
     "cellMetadata": {},
     "inputWidgets": {},
     "nuid": "49e5cc72-3f62-4f1c-87ab-9db9fada7da4",
     "showTitle": false,
     "tableResultSettingsMap": {},
     "title": ""
    }
   },
   "source": [
    "ADD A NEW COLUMN "
   ]
  },
  {
   "cell_type": "code",
   "execution_count": 0,
   "metadata": {
    "application/vnd.databricks.v1+cell": {
     "cellMetadata": {
      "byteLimit": 2048000,
      "rowLimit": 10000
     },
     "inputWidgets": {},
     "nuid": "e7907a88-0a18-403e-a08f-786ac81fa75f",
     "showTitle": false,
     "tableResultSettingsMap": {},
     "title": ""
    }
   },
   "outputs": [
    {
     "output_type": "stream",
     "name": "stdout",
     "output_type": "stream",
     "text": [
      "+---+-----------+----------+------+------+------------+\n| id|      state|      city|seater|charge|Travels_name|\n+---+-----------+----------+------+------+------------+\n|  1|  Jharkhand|Jamshedpur|     4|  3000|         KPN|\n|  2|      Bihar|    Purnea|     3|  2250|         KPN|\n|  3|  Jharkhand|Jamshedpur|     4|  3000|         KPN|\n|  4|West Bengal|   Kolkata|     2|  1750|         KPN|\n|  5|West Bengal|  Siliguri|     4|  3500|         KPN|\n|  6|  Jharkhand|    Ranchi|     4|  3000|         KPN|\n|  7|      Bihar|   Sasaram|     3|  2100|         KPN|\n+---+-----------+----------+------+------+------------+\n\n"
     ]
    }
   ],
   "source": [
    "\n",
    "from pyspark.sql.functions import lit\n",
    "#Adds new column with same value in all rows using \"LIT\"\n",
    "cabDF_Addcolumn = cabDF.withColumn(\"Travels_name\", lit(\"KPN\") ).show()"
   ]
  },
  {
   "cell_type": "markdown",
   "metadata": {
    "application/vnd.databricks.v1+cell": {
     "cellMetadata": {},
     "inputWidgets": {},
     "nuid": "5158f300-5372-4b10-8e91-e38e6fe0af4b",
     "showTitle": false,
     "tableResultSettingsMap": {},
     "title": ""
    }
   },
   "source": [
    "ADD COLUMN USING CALCULATIONS "
   ]
  },
  {
   "cell_type": "code",
   "execution_count": 0,
   "metadata": {
    "application/vnd.databricks.v1+cell": {
     "cellMetadata": {
      "byteLimit": 2048000,
      "rowLimit": 10000
     },
     "inputWidgets": {},
     "nuid": "48ddad4f-3944-4de0-866e-a581aa8a4d01",
     "showTitle": false,
     "tableResultSettingsMap": {},
     "title": ""
    }
   },
   "outputs": [
    {
     "output_type": "stream",
     "name": "stdout",
     "output_type": "stream",
     "text": [
      "+---+-----------+----------+------+------+-----------+\n| id|      state|      city|seater|charge|ExtraCharge|\n+---+-----------+----------+------+------+-----------+\n|  1|  Jharkhand|Jamshedpur|     4|  3000|       6000|\n|  2|      Bihar|    Purnea|     3|  2250|       4500|\n|  3|  Jharkhand|Jamshedpur|     4|  3000|       6000|\n|  4|West Bengal|   Kolkata|     2|  1750|       3500|\n|  5|West Bengal|  Siliguri|     4|  3500|       7000|\n|  6|  Jharkhand|    Ranchi|     4|  3000|       6000|\n|  7|      Bihar|   Sasaram|     3|  2100|       4200|\n+---+-----------+----------+------+------+-----------+\n\n"
     ]
    }
   ],
   "source": [
    "from pyspark.sql.functions import concat\n",
    "cabDF_Add = cabDF.withColumn(\"ExtraCharge\" , cabDF.charge*2).show()\n",
    "#ADDS NEW COLUMN BY CALCULATION OF EXISTING COLUMN "
   ]
  },
  {
   "cell_type": "markdown",
   "metadata": {
    "application/vnd.databricks.v1+cell": {
     "cellMetadata": {},
     "inputWidgets": {},
     "nuid": "f9faa66e-6c00-46e9-a869-80233862a912",
     "showTitle": false,
     "tableResultSettingsMap": {},
     "title": ""
    }
   },
   "source": [
    "RENAME COLUMN \n"
   ]
  },
  {
   "cell_type": "code",
   "execution_count": 0,
   "metadata": {
    "application/vnd.databricks.v1+cell": {
     "cellMetadata": {
      "byteLimit": 2048000,
      "rowLimit": 10000
     },
     "inputWidgets": {},
     "nuid": "736f8db1-df9e-4acc-bc32-ebb10b5852d0",
     "showTitle": false,
     "tableResultSettingsMap": {},
     "title": ""
    }
   },
   "outputs": [
    {
     "output_type": "stream",
     "name": "stdout",
     "output_type": "stream",
     "text": [
      "+---+-----------+----------+------+------+\n| id|     STATES|      city|seater|charge|\n+---+-----------+----------+------+------+\n|  1|  Jharkhand|Jamshedpur|     4|  3000|\n|  2|      Bihar|    Purnea|     3|  2250|\n|  3|  Jharkhand|Jamshedpur|     4|  3000|\n|  4|West Bengal|   Kolkata|     2|  1750|\n|  5|West Bengal|  Siliguri|     4|  3500|\n|  6|  Jharkhand|    Ranchi|     4|  3000|\n|  7|      Bihar|   Sasaram|     3|  2100|\n+---+-----------+----------+------+------+\n\n"
     ]
    }
   ],
   "source": [
    "cabDF_rename = cabDF.withColumnRenamed(\"state\", 'STATES').show()"
   ]
  },
  {
   "cell_type": "markdown",
   "metadata": {
    "application/vnd.databricks.v1+cell": {
     "cellMetadata": {},
     "inputWidgets": {},
     "nuid": "69fd96f8-423e-4e0c-90e3-4eb9a5ea5eb3",
     "showTitle": false,
     "tableResultSettingsMap": {},
     "title": ""
    }
   },
   "source": [
    "DROP THE COLUMN "
   ]
  },
  {
   "cell_type": "code",
   "execution_count": 0,
   "metadata": {
    "application/vnd.databricks.v1+cell": {
     "cellMetadata": {
      "byteLimit": 2048000,
      "rowLimit": 10000
     },
     "inputWidgets": {},
     "nuid": "26a0aca3-729c-40e8-9c2c-c2f725f6bcef",
     "showTitle": false,
     "tableResultSettingsMap": {},
     "title": ""
    }
   },
   "outputs": [
    {
     "output_type": "display_data",
     "data": {
      "text/plain": [
       "\u001B[0;31m---------------------------------------------------------------------------\u001B[0m\n",
       "\u001B[0;31mAttributeError\u001B[0m                            Traceback (most recent call last)\n",
       "File \u001B[0;32m<command-3398590136950884>, line 1\u001B[0m\n",
       "\u001B[0;32m----> 1\u001B[0m cabDF_dropcolumn \u001B[38;5;241m=\u001B[39m cabDF_Add\u001B[38;5;241m.\u001B[39mdrop(\u001B[38;5;124m\"\u001B[39m\u001B[38;5;124mExtraCharge\u001B[39m\u001B[38;5;124m\"\u001B[39m)\n",
       "\u001B[1;32m      2\u001B[0m cabDF_dropcolumn\u001B[38;5;241m.\u001B[39mshow()\n",
       "\n",
       "\u001B[0;31mAttributeError\u001B[0m: 'NoneType' object has no attribute 'drop'"
      ]
     },
     "metadata": {
      "application/vnd.databricks.v1+output": {
       "addedWidgets": {},
       "arguments": {},
       "datasetInfos": [],
       "jupyterProps": {
        "ename": "AttributeError",
        "evalue": "'NoneType' object has no attribute 'drop'"
       },
       "metadata": {
        "errorSummary": "<span class='ansi-red-fg'>AttributeError</span>: 'NoneType' object has no attribute 'drop'"
       },
       "removedWidgets": [],
       "sqlProps": null,
       "stackFrames": [
        "\u001B[0;31m---------------------------------------------------------------------------\u001B[0m",
        "\u001B[0;31mAttributeError\u001B[0m                            Traceback (most recent call last)",
        "File \u001B[0;32m<command-3398590136950884>, line 1\u001B[0m\n\u001B[0;32m----> 1\u001B[0m cabDF_dropcolumn \u001B[38;5;241m=\u001B[39m cabDF_Add\u001B[38;5;241m.\u001B[39mdrop(\u001B[38;5;124m\"\u001B[39m\u001B[38;5;124mExtraCharge\u001B[39m\u001B[38;5;124m\"\u001B[39m)\n\u001B[1;32m      2\u001B[0m cabDF_dropcolumn\u001B[38;5;241m.\u001B[39mshow()\n",
        "\u001B[0;31mAttributeError\u001B[0m: 'NoneType' object has no attribute 'drop'"
       ],
       "type": "baseError"
      }
     },
     "output_type": "display_data"
    }
   ],
   "source": [
    "#cabDF_dropcolumn = cabDF_Add.drop(\"ExtraCharge\")\n",
    "#cabDF_dropcolumn.show()\n"
   ]
  },
  {
   "cell_type": "code",
   "execution_count": 0,
   "metadata": {
    "application/vnd.databricks.v1+cell": {
     "cellMetadata": {},
     "inputWidgets": {},
     "nuid": "4d5a1ab0-1277-4c03-848a-f3de53fdb6b0",
     "showTitle": false,
     "tableResultSettingsMap": {},
     "title": ""
    }
   },
   "outputs": [],
   "source": []
  },
  {
   "cell_type": "code",
   "execution_count": 0,
   "metadata": {
    "application/vnd.databricks.v1+cell": {
     "cellMetadata": {},
     "inputWidgets": {},
     "nuid": "243a40f7-2f39-411c-97a3-fe09576ec3d8",
     "showTitle": false,
     "tableResultSettingsMap": {},
     "title": ""
    }
   },
   "outputs": [],
   "source": []
  }
 ],
 "metadata": {
  "application/vnd.databricks.v1+notebook": {
   "computePreferences": null,
   "dashboards": [],
   "environmentMetadata": {
    "base_environment": "",
    "client": "1"
   },
   "language": "python",
   "notebookMetadata": {
    "pythonIndentUnit": 4
   },
   "notebookName": "ADD, RENAME, DROP COLUMN",
   "widgets": {}
  }
 },
 "nbformat": 4,
 "nbformat_minor": 0
}
