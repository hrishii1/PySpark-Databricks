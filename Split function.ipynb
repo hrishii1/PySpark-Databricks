{
 "cells": [
  {
   "cell_type": "code",
   "execution_count": 0,
   "metadata": {
    "application/vnd.databricks.v1+cell": {
     "cellMetadata": {
      "byteLimit": 2048000,
      "rowLimit": 10000
     },
     "inputWidgets": {},
     "nuid": "f379a0d5-18e3-4373-a615-4f9e9d8531dc",
     "showTitle": false,
     "tableResultSettingsMap": {},
     "title": ""
    }
   },
   "outputs": [
    {
     "output_type": "display_data",
     "data": {
      "text/html": [
       "<style scoped>\n",
       "  .table-result-container {\n",
       "    max-height: 300px;\n",
       "    overflow: auto;\n",
       "  }\n",
       "  table, th, td {\n",
       "    border: 1px solid black;\n",
       "    border-collapse: collapse;\n",
       "  }\n",
       "  th, td {\n",
       "    padding: 5px;\n",
       "  }\n",
       "  th {\n",
       "    text-align: left;\n",
       "  }\n",
       "</style><div class='table-result-container'><table class='table-result'><thead style='background-color: white'><tr><th>id</th><th>Name</th></tr></thead><tbody><tr><td>1</td><td>Hri XXX</td></tr><tr><td>2</td><td>Kumar KKK</td></tr><tr><td>3</td><td>Rahul HHH</td></tr><tr><td>4</td><td>Ram JJJ</td></tr><tr><td>5</td><td>Raj FFF</td></tr></tbody></table></div>"
      ]
     },
     "metadata": {
      "application/vnd.databricks.v1+output": {
       "addedWidgets": {},
       "aggData": [],
       "aggError": "",
       "aggOverflow": false,
       "aggSchema": [],
       "aggSeriesLimitReached": false,
       "aggType": "",
       "arguments": {},
       "columnCustomDisplayInfos": {},
       "data": [
        [
         1,
         "Hri XXX"
        ],
        [
         2,
         "Kumar KKK"
        ],
        [
         3,
         "Rahul HHH"
        ],
        [
         4,
         "Ram JJJ"
        ],
        [
         5,
         "Raj FFF"
        ]
       ],
       "datasetInfos": [],
       "dbfsResultPath": null,
       "isJsonSchema": true,
       "metadata": {},
       "overflow": false,
       "plotOptions": {
        "customPlotOptions": {},
        "displayType": "table",
        "pivotAggregation": null,
        "pivotColumns": null,
        "xColumns": null,
        "yColumns": null
       },
       "removedWidgets": [],
       "schema": [
        {
         "metadata": "{}",
         "name": "id",
         "type": "\"long\""
        },
        {
         "metadata": "{}",
         "name": "Name",
         "type": "\"string\""
        }
       ],
       "type": "table"
      }
     },
     "output_type": "display_data"
    }
   ],
   "source": [
    "customer_data = [(1,\"Hri XXX\"),\n",
    "(2,\"Kumar KKK\"),\n",
    "(3,\"Rahul HHH\"),\n",
    "(4,\"Ram JJJ\"),\n",
    "(5,'Raj FFF')]\n",
    "\n",
    "df1 = spark.createDataFrame(data = customer_data , schema =[\"id\", \"Name\"])\n",
    "display(df1)"
   ]
  },
  {
   "cell_type": "code",
   "execution_count": 0,
   "metadata": {
    "application/vnd.databricks.v1+cell": {
     "cellMetadata": {
      "byteLimit": 2048000,
      "rowLimit": 10000
     },
     "inputWidgets": {},
     "nuid": "e4ac7945-01d7-4ed4-9ac4-8a417679d0c3",
     "showTitle": false,
     "tableResultSettingsMap": {},
     "title": ""
    }
   },
   "outputs": [
    {
     "output_type": "stream",
     "name": "stdout",
     "output_type": "stream",
     "text": [
      "+---+---------+----------+---------+\n| id|     Name|First_Name|Last_Name|\n+---+---------+----------+---------+\n|  1|  Hri XXX|       Hri|      XXX|\n|  2|Kumar KKK|     Kumar|      KKK|\n|  3|Rahul HHH|     Rahul|      HHH|\n|  4|  Ram JJJ|       Ram|      JJJ|\n|  5|  Raj FFF|       Raj|      FFF|\n+---+---------+----------+---------+\n\n"
     ]
    }
   ],
   "source": [
    "from pyspark.sql.functions import split \n",
    "\n",
    "df2 = df1.withColumn('First_Name', split (df1['Name'], ' ').getItem(0)) \\\n",
    "    .withColumn('Last_Name', split(df1['Name'], ' ').getItem(1))\n",
    "\n",
    "df2.show()"
   ]
  },
  {
   "cell_type": "code",
   "execution_count": 0,
   "metadata": {
    "application/vnd.databricks.v1+cell": {
     "cellMetadata": {},
     "inputWidgets": {},
     "nuid": "0722ce50-fbb3-4422-b007-c5f0171365fa",
     "showTitle": false,
     "tableResultSettingsMap": {},
     "title": ""
    }
   },
   "outputs": [],
   "source": []
  }
 ],
 "metadata": {
  "application/vnd.databricks.v1+notebook": {
   "computePreferences": null,
   "dashboards": [],
   "environmentMetadata": {
    "base_environment": "",
    "environment_version": "1"
   },
   "inputWidgetPreferences": null,
   "language": "python",
   "notebookMetadata": {
    "pythonIndentUnit": 4
   },
   "notebookName": "Split function",
   "widgets": {}
  }
 },
 "nbformat": 4,
 "nbformat_minor": 0
}