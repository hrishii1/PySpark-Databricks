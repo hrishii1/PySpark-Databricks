{
 "cells": [
  {
   "cell_type": "markdown",
   "metadata": {
    "application/vnd.databricks.v1+cell": {
     "cellMetadata": {
      "byteLimit": 2048000,
      "rowLimit": 10000
     },
     "inputWidgets": {},
     "nuid": "55b2cfe8-d2d1-42f6-95fb-253421c80145",
     "showTitle": false,
     "tableResultSettingsMap": {},
     "title": ""
    }
   },
   "source": [
    "CREATE DATAFRAME WITH ARRAY\n"
   ]
  },
  {
   "cell_type": "code",
   "execution_count": 0,
   "metadata": {
    "application/vnd.databricks.v1+cell": {
     "cellMetadata": {
      "byteLimit": 2048000,
      "rowLimit": 10000
     },
     "inputWidgets": {},
     "nuid": "481eaa54-27fe-40b8-87d9-13ff15d8fba0",
     "showTitle": false,
     "tableResultSettingsMap": {},
     "title": ""
    }
   },
   "outputs": [
    {
     "output_type": "stream",
     "name": "stdout",
     "output_type": "stream",
     "text": [
      "root\n |-- name: string (nullable = true)\n |-- appliances: array (nullable = true)\n |    |-- element: string (containsNull = true)\n\n"
     ]
    },
    {
     "output_type": "display_data",
     "data": {
      "text/html": [
       "<style scoped>\n",
       "  .table-result-container {\n",
       "    max-height: 300px;\n",
       "    overflow: auto;\n",
       "  }\n",
       "  table, th, td {\n",
       "    border: 1px solid black;\n",
       "    border-collapse: collapse;\n",
       "  }\n",
       "  th, td {\n",
       "    padding: 5px;\n",
       "  }\n",
       "  th {\n",
       "    text-align: left;\n",
       "  }\n",
       "</style><div class='table-result-container'><table class='table-result'><thead style='background-color: white'><tr><th>name</th><th>appliances</th></tr></thead><tbody><tr><td>Raja</td><td>List(TV, Fridge, Oven)</td></tr><tr><td>Kumar</td><td>List(AC, Washing machine, null)</td></tr><tr><td>Ram</td><td>List(Grinder, TV, AC)</td></tr><tr><td>XXX</td><td>List(TV, null)</td></tr><tr><td>YYYY</td><td>List(null)</td></tr></tbody></table></div>"
      ]
     },
     "metadata": {
      "application/vnd.databricks.v1+output": {
       "addedWidgets": {},
       "aggData": [],
       "aggError": "",
       "aggOverflow": false,
       "aggSchema": [],
       "aggSeriesLimitReached": false,
       "aggType": "",
       "arguments": {},
       "columnCustomDisplayInfos": {},
       "data": [
        [
         "Raja",
         [
          "TV",
          "Fridge",
          "Oven"
         ]
        ],
        [
         "Kumar",
         [
          "AC",
          "Washing machine",
          null
         ]
        ],
        [
         "Ram",
         [
          "Grinder",
          "TV",
          "AC"
         ]
        ],
        [
         "XXX",
         [
          "TV",
          null
         ]
        ],
        [
         "YYYY",
         [
          null
         ]
        ]
       ],
       "datasetInfos": [],
       "dbfsResultPath": null,
       "isJsonSchema": true,
       "metadata": {},
       "overflow": false,
       "plotOptions": {
        "customPlotOptions": {},
        "displayType": "table",
        "pivotAggregation": null,
        "pivotColumns": null,
        "xColumns": null,
        "yColumns": null
       },
       "removedWidgets": [],
       "schema": [
        {
         "metadata": "{}",
         "name": "name",
         "type": "\"string\""
        },
        {
         "metadata": "{}",
         "name": "appliances",
         "type": "{\"type\":\"array\",\"elementType\":\"string\",\"containsNull\":true}"
        }
       ],
       "type": "table"
      }
     },
     "output_type": "display_data"
    }
   ],
   "source": [
    "array_appliance = [(\"Raja\", ['TV', 'Fridge', 'Oven']), \n",
    "                  (\"Kumar\", ['AC', 'Washing machine', None]), \n",
    "                  (\"Ram\", ['Grinder', 'TV', 'AC']), \n",
    "                  (\"XXX\", ['TV', None]), \n",
    "                  (\"YYYY\", [None])]\n",
    "\n",
    "df_app = spark.createDataFrame(data = array_appliance, schema =['name', 'appliances'])\n",
    "df_app.printSchema()\n",
    "display(df_app)"
   ]
  },
  {
   "cell_type": "markdown",
   "metadata": {
    "application/vnd.databricks.v1+cell": {
     "cellMetadata": {
      "byteLimit": 2048000,
      "rowLimit": 10000
     },
     "inputWidgets": {},
     "nuid": "7288790a-d318-43b0-8066-cc0ed26213c4",
     "showTitle": false,
     "tableResultSettingsMap": {},
     "title": ""
    }
   },
   "source": [
    "CREATE DF WITH MAP TYPE "
   ]
  },
  {
   "cell_type": "code",
   "execution_count": 0,
   "metadata": {
    "application/vnd.databricks.v1+cell": {
     "cellMetadata": {
      "byteLimit": 2048000,
      "rowLimit": 10000
     },
     "inputWidgets": {},
     "nuid": "dadbdc9b-ecf0-4209-afaf-1c4250b14485",
     "showTitle": false,
     "tableResultSettingsMap": {},
     "title": ""
    }
   },
   "outputs": [
    {
     "output_type": "stream",
     "name": "stdout",
     "output_type": "stream",
     "text": [
      "root\n |-- name: string (nullable = true)\n |-- brand: map (nullable = true)\n |    |-- key: string\n |    |-- value: string (valueContainsNull = true)\n\n"
     ]
    },
    {
     "output_type": "display_data",
     "data": {
      "text/html": [
       "<style scoped>\n",
       "  .table-result-container {\n",
       "    max-height: 300px;\n",
       "    overflow: auto;\n",
       "  }\n",
       "  table, th, td {\n",
       "    border: 1px solid black;\n",
       "    border-collapse: collapse;\n",
       "  }\n",
       "  th, td {\n",
       "    padding: 5px;\n",
       "  }\n",
       "  th {\n",
       "    text-align: left;\n",
       "  }\n",
       "</style><div class='table-result-container'><table class='table-result'><thead style='background-color: white'><tr><th>name</th><th>brand</th></tr></thead><tbody><tr><td>Raja</td><td>Map(TV -> Samsung, Oven -> Onida, Fridge -> HP)</td></tr><tr><td>Kumar</td><td>Map(AC -> Apple, Washing machine -> BPL)</td></tr><tr><td>Ram</td><td>Map(AC -> XXX, TV -> YYY, Grinder -> XXX)</td></tr><tr><td>XXX</td><td>Map(TV -> )</td></tr><tr><td>YYYY</td><td>null</td></tr></tbody></table></div>"
      ]
     },
     "metadata": {
      "application/vnd.databricks.v1+output": {
       "addedWidgets": {},
       "aggData": [],
       "aggError": "",
       "aggOverflow": false,
       "aggSchema": [],
       "aggSeriesLimitReached": false,
       "aggType": "",
       "arguments": {},
       "columnCustomDisplayInfos": {},
       "data": [
        [
         "Raja",
         {
          "Fridge": "HP",
          "Oven": "Onida",
          "TV": "Samsung"
         }
        ],
        [
         "Kumar",
         {
          "AC": "Apple",
          "Washing machine": "BPL"
         }
        ],
        [
         "Ram",
         {
          "AC": "XXX",
          "Grinder": "XXX",
          "TV": "YYY"
         }
        ],
        [
         "XXX",
         {
          "TV": ""
         }
        ],
        [
         "YYYY",
         null
        ]
       ],
       "datasetInfos": [],
       "dbfsResultPath": null,
       "isJsonSchema": true,
       "metadata": {},
       "overflow": false,
       "plotOptions": {
        "customPlotOptions": {},
        "displayType": "table",
        "pivotAggregation": null,
        "pivotColumns": null,
        "xColumns": null,
        "yColumns": null
       },
       "removedWidgets": [],
       "schema": [
        {
         "metadata": "{}",
         "name": "name",
         "type": "\"string\""
        },
        {
         "metadata": "{}",
         "name": "brand",
         "type": "{\"type\":\"map\",\"keyType\":\"string\",\"valueType\":\"string\",\"valueContainsNull\":true}"
        }
       ],
       "type": "table"
      }
     },
     "output_type": "display_data"
    }
   ],
   "source": [
    "map_brand = [(\"Raja\", {'TV':'Samsung', 'Fridge':'HP', 'Oven':'Onida'}), \n",
    "                  (\"Kumar\", {'AC': 'Apple', 'Washing machine': 'BPL'}), \n",
    "                  (\"Ram\", {'Grinder': 'XXX', 'TV':'YYY', 'AC':'XXX'}), \n",
    "                  (\"XXX\", {'TV':'' }), \n",
    "                  (\"YYYY\",None)]\n",
    "    \n",
    "df_brand = spark.createDataFrame(data = map_brand, schema = ['name', 'brand'])\n",
    "df_brand.printSchema()\n",
    "display(df_brand)"
   ]
  },
  {
   "cell_type": "markdown",
   "metadata": {
    "application/vnd.databricks.v1+cell": {
     "cellMetadata": {
      "byteLimit": 2048000,
      "rowLimit": 10000
     },
     "inputWidgets": {},
     "nuid": "a164691f-6729-4bbf-9d63-eae213c973d3",
     "showTitle": false,
     "tableResultSettingsMap": {},
     "title": ""
    }
   },
   "source": [
    "EXPLODE ARRAY FIELD "
   ]
  },
  {
   "cell_type": "code",
   "execution_count": 0,
   "metadata": {
    "application/vnd.databricks.v1+cell": {
     "cellMetadata": {
      "byteLimit": 2048000,
      "rowLimit": 10000
     },
     "inputWidgets": {},
     "nuid": "d31e86fe-aa94-49cc-b73e-1cc29fa3de62",
     "showTitle": false,
     "tableResultSettingsMap": {},
     "title": ""
    }
   },
   "outputs": [
    {
     "output_type": "stream",
     "name": "stdout",
     "output_type": "stream",
     "text": [
      "root\n |-- name: string (nullable = true)\n |-- appliances: array (nullable = true)\n |    |-- element: string (containsNull = true)\n\n"
     ]
    },
    {
     "output_type": "display_data",
     "data": {
      "text/html": [
       "<style scoped>\n",
       "  .table-result-container {\n",
       "    max-height: 300px;\n",
       "    overflow: auto;\n",
       "  }\n",
       "  table, th, td {\n",
       "    border: 1px solid black;\n",
       "    border-collapse: collapse;\n",
       "  }\n",
       "  th, td {\n",
       "    padding: 5px;\n",
       "  }\n",
       "  th {\n",
       "    text-align: left;\n",
       "  }\n",
       "</style><div class='table-result-container'><table class='table-result'><thead style='background-color: white'><tr><th>name</th><th>appliances</th></tr></thead><tbody><tr><td>Raja</td><td>List(TV, Fridge, Oven)</td></tr><tr><td>Kumar</td><td>List(AC, Washing machine, null)</td></tr><tr><td>Ram</td><td>List(Grinder, TV, AC)</td></tr><tr><td>XXX</td><td>List(TV, null)</td></tr><tr><td>YYYY</td><td>List(null)</td></tr></tbody></table></div>"
      ]
     },
     "metadata": {
      "application/vnd.databricks.v1+output": {
       "addedWidgets": {},
       "aggData": [],
       "aggError": "",
       "aggOverflow": false,
       "aggSchema": [],
       "aggSeriesLimitReached": false,
       "aggType": "",
       "arguments": {},
       "columnCustomDisplayInfos": {},
       "data": [
        [
         "Raja",
         [
          "TV",
          "Fridge",
          "Oven"
         ]
        ],
        [
         "Kumar",
         [
          "AC",
          "Washing machine",
          null
         ]
        ],
        [
         "Ram",
         [
          "Grinder",
          "TV",
          "AC"
         ]
        ],
        [
         "XXX",
         [
          "TV",
          null
         ]
        ],
        [
         "YYYY",
         [
          null
         ]
        ]
       ],
       "datasetInfos": [],
       "dbfsResultPath": null,
       "isJsonSchema": true,
       "metadata": {},
       "overflow": false,
       "plotOptions": {
        "customPlotOptions": {},
        "displayType": "table",
        "pivotAggregation": null,
        "pivotColumns": null,
        "xColumns": null,
        "yColumns": null
       },
       "removedWidgets": [],
       "schema": [
        {
         "metadata": "{}",
         "name": "name",
         "type": "\"string\""
        },
        {
         "metadata": "{}",
         "name": "appliances",
         "type": "{\"type\":\"array\",\"elementType\":\"string\",\"containsNull\":true}"
        }
       ],
       "type": "table"
      }
     },
     "output_type": "display_data"
    },
    {
     "output_type": "stream",
     "name": "stdout",
     "output_type": "stream",
     "text": [
      "root\n |-- name: string (nullable = true)\n |-- col: string (nullable = true)\n\n"
     ]
    },
    {
     "output_type": "display_data",
     "data": {
      "text/html": [
       "<style scoped>\n",
       "  .table-result-container {\n",
       "    max-height: 300px;\n",
       "    overflow: auto;\n",
       "  }\n",
       "  table, th, td {\n",
       "    border: 1px solid black;\n",
       "    border-collapse: collapse;\n",
       "  }\n",
       "  th, td {\n",
       "    padding: 5px;\n",
       "  }\n",
       "  th {\n",
       "    text-align: left;\n",
       "  }\n",
       "</style><div class='table-result-container'><table class='table-result'><thead style='background-color: white'><tr><th>name</th><th>col</th></tr></thead><tbody><tr><td>Raja</td><td>TV</td></tr><tr><td>Raja</td><td>Fridge</td></tr><tr><td>Raja</td><td>Oven</td></tr><tr><td>Kumar</td><td>AC</td></tr><tr><td>Kumar</td><td>Washing machine</td></tr><tr><td>Kumar</td><td>null</td></tr><tr><td>Ram</td><td>Grinder</td></tr><tr><td>Ram</td><td>TV</td></tr><tr><td>Ram</td><td>AC</td></tr><tr><td>XXX</td><td>TV</td></tr><tr><td>XXX</td><td>null</td></tr><tr><td>YYYY</td><td>null</td></tr></tbody></table></div>"
      ]
     },
     "metadata": {
      "application/vnd.databricks.v1+output": {
       "addedWidgets": {},
       "aggData": [],
       "aggError": "",
       "aggOverflow": false,
       "aggSchema": [],
       "aggSeriesLimitReached": false,
       "aggType": "",
       "arguments": {},
       "columnCustomDisplayInfos": {},
       "data": [
        [
         "Raja",
         "TV"
        ],
        [
         "Raja",
         "Fridge"
        ],
        [
         "Raja",
         "Oven"
        ],
        [
         "Kumar",
         "AC"
        ],
        [
         "Kumar",
         "Washing machine"
        ],
        [
         "Kumar",
         null
        ],
        [
         "Ram",
         "Grinder"
        ],
        [
         "Ram",
         "TV"
        ],
        [
         "Ram",
         "AC"
        ],
        [
         "XXX",
         "TV"
        ],
        [
         "XXX",
         null
        ],
        [
         "YYYY",
         null
        ]
       ],
       "datasetInfos": [],
       "dbfsResultPath": null,
       "isJsonSchema": true,
       "metadata": {},
       "overflow": false,
       "plotOptions": {
        "customPlotOptions": {},
        "displayType": "table",
        "pivotAggregation": null,
        "pivotColumns": null,
        "xColumns": null,
        "yColumns": null
       },
       "removedWidgets": [],
       "schema": [
        {
         "metadata": "{}",
         "name": "name",
         "type": "\"string\""
        },
        {
         "metadata": "{}",
         "name": "col",
         "type": "\"string\""
        }
       ],
       "type": "table"
      }
     },
     "output_type": "display_data"
    }
   ],
   "source": [
    "from pyspark.sql.functions import explode\n",
    "df2 = df_app.select(df_app.name, explode(df_app.appliances))\n",
    "\n",
    "#source\n",
    "df_app.printSchema()\n",
    "display(df_app)\n",
    "\n",
    "df2.printSchema()\n",
    "display(df2)"
   ]
  },
  {
   "cell_type": "markdown",
   "metadata": {
    "application/vnd.databricks.v1+cell": {
     "cellMetadata": {
      "byteLimit": 2048000,
      "rowLimit": 10000
     },
     "inputWidgets": {},
     "nuid": "51cd146a-c5ef-4d22-95e4-0d6f582edbdb",
     "showTitle": false,
     "tableResultSettingsMap": {},
     "title": ""
    }
   },
   "source": [
    "EXPLODE MAP FIELD "
   ]
  },
  {
   "cell_type": "code",
   "execution_count": 0,
   "metadata": {
    "application/vnd.databricks.v1+cell": {
     "cellMetadata": {
      "byteLimit": 2048000,
      "rowLimit": 10000
     },
     "inputWidgets": {},
     "nuid": "ea0d6f9a-1ecc-4d51-b07a-8371c43df351",
     "showTitle": false,
     "tableResultSettingsMap": {},
     "title": ""
    }
   },
   "outputs": [
    {
     "output_type": "stream",
     "name": "stdout",
     "output_type": "stream",
     "text": [
      "root\n |-- name: string (nullable = true)\n |-- brand: map (nullable = true)\n |    |-- key: string\n |    |-- value: string (valueContainsNull = true)\n\n"
     ]
    },
    {
     "output_type": "display_data",
     "data": {
      "text/html": [
       "<style scoped>\n",
       "  .table-result-container {\n",
       "    max-height: 300px;\n",
       "    overflow: auto;\n",
       "  }\n",
       "  table, th, td {\n",
       "    border: 1px solid black;\n",
       "    border-collapse: collapse;\n",
       "  }\n",
       "  th, td {\n",
       "    padding: 5px;\n",
       "  }\n",
       "  th {\n",
       "    text-align: left;\n",
       "  }\n",
       "</style><div class='table-result-container'><table class='table-result'><thead style='background-color: white'><tr><th>name</th><th>brand</th></tr></thead><tbody><tr><td>Raja</td><td>Map(TV -> Samsung, Oven -> Onida, Fridge -> HP)</td></tr><tr><td>Kumar</td><td>Map(AC -> Apple, Washing machine -> BPL)</td></tr><tr><td>Ram</td><td>Map(AC -> XXX, TV -> YYY, Grinder -> XXX)</td></tr><tr><td>XXX</td><td>Map(TV -> )</td></tr><tr><td>YYYY</td><td>null</td></tr></tbody></table></div>"
      ]
     },
     "metadata": {
      "application/vnd.databricks.v1+output": {
       "addedWidgets": {},
       "aggData": [],
       "aggError": "",
       "aggOverflow": false,
       "aggSchema": [],
       "aggSeriesLimitReached": false,
       "aggType": "",
       "arguments": {},
       "columnCustomDisplayInfos": {},
       "data": [
        [
         "Raja",
         {
          "Fridge": "HP",
          "Oven": "Onida",
          "TV": "Samsung"
         }
        ],
        [
         "Kumar",
         {
          "AC": "Apple",
          "Washing machine": "BPL"
         }
        ],
        [
         "Ram",
         {
          "AC": "XXX",
          "Grinder": "XXX",
          "TV": "YYY"
         }
        ],
        [
         "XXX",
         {
          "TV": ""
         }
        ],
        [
         "YYYY",
         null
        ]
       ],
       "datasetInfos": [],
       "dbfsResultPath": null,
       "isJsonSchema": true,
       "metadata": {},
       "overflow": false,
       "plotOptions": {
        "customPlotOptions": {},
        "displayType": "table",
        "pivotAggregation": null,
        "pivotColumns": null,
        "xColumns": null,
        "yColumns": null
       },
       "removedWidgets": [],
       "schema": [
        {
         "metadata": "{}",
         "name": "name",
         "type": "\"string\""
        },
        {
         "metadata": "{}",
         "name": "brand",
         "type": "{\"type\":\"map\",\"keyType\":\"string\",\"valueType\":\"string\",\"valueContainsNull\":true}"
        }
       ],
       "type": "table"
      }
     },
     "output_type": "display_data"
    },
    {
     "output_type": "stream",
     "name": "stdout",
     "output_type": "stream",
     "text": [
      "root\n |-- name: string (nullable = true)\n |-- key: string (nullable = false)\n |-- value: string (nullable = true)\n\n"
     ]
    },
    {
     "output_type": "display_data",
     "data": {
      "text/html": [
       "<style scoped>\n",
       "  .table-result-container {\n",
       "    max-height: 300px;\n",
       "    overflow: auto;\n",
       "  }\n",
       "  table, th, td {\n",
       "    border: 1px solid black;\n",
       "    border-collapse: collapse;\n",
       "  }\n",
       "  th, td {\n",
       "    padding: 5px;\n",
       "  }\n",
       "  th {\n",
       "    text-align: left;\n",
       "  }\n",
       "</style><div class='table-result-container'><table class='table-result'><thead style='background-color: white'><tr><th>name</th><th>key</th><th>value</th></tr></thead><tbody><tr><td>Raja</td><td>TV</td><td>Samsung</td></tr><tr><td>Raja</td><td>Oven</td><td>Onida</td></tr><tr><td>Raja</td><td>Fridge</td><td>HP</td></tr><tr><td>Kumar</td><td>AC</td><td>Apple</td></tr><tr><td>Kumar</td><td>Washing machine</td><td>BPL</td></tr><tr><td>Ram</td><td>AC</td><td>XXX</td></tr><tr><td>Ram</td><td>TV</td><td>YYY</td></tr><tr><td>Ram</td><td>Grinder</td><td>XXX</td></tr><tr><td>XXX</td><td>TV</td><td></td></tr></tbody></table></div>"
      ]
     },
     "metadata": {
      "application/vnd.databricks.v1+output": {
       "addedWidgets": {},
       "aggData": [],
       "aggError": "",
       "aggOverflow": false,
       "aggSchema": [],
       "aggSeriesLimitReached": false,
       "aggType": "",
       "arguments": {},
       "columnCustomDisplayInfos": {},
       "data": [
        [
         "Raja",
         "TV",
         "Samsung"
        ],
        [
         "Raja",
         "Oven",
         "Onida"
        ],
        [
         "Raja",
         "Fridge",
         "HP"
        ],
        [
         "Kumar",
         "AC",
         "Apple"
        ],
        [
         "Kumar",
         "Washing machine",
         "BPL"
        ],
        [
         "Ram",
         "AC",
         "XXX"
        ],
        [
         "Ram",
         "TV",
         "YYY"
        ],
        [
         "Ram",
         "Grinder",
         "XXX"
        ],
        [
         "XXX",
         "TV",
         ""
        ]
       ],
       "datasetInfos": [],
       "dbfsResultPath": null,
       "isJsonSchema": true,
       "metadata": {},
       "overflow": false,
       "plotOptions": {
        "customPlotOptions": {},
        "displayType": "table",
        "pivotAggregation": null,
        "pivotColumns": null,
        "xColumns": null,
        "yColumns": null
       },
       "removedWidgets": [],
       "schema": [
        {
         "metadata": "{}",
         "name": "name",
         "type": "\"string\""
        },
        {
         "metadata": "{}",
         "name": "key",
         "type": "\"string\""
        },
        {
         "metadata": "{}",
         "name": "value",
         "type": "\"string\""
        }
       ],
       "type": "table"
      }
     },
     "output_type": "display_data"
    }
   ],
   "source": [
    "from pyspark.sql.functions import explode\n",
    "\n",
    "df3 = df_brand.select(df_brand.name, explode(df_brand.brand))\n",
    "\n",
    "df_brand.printSchema()\n",
    "display(df_brand)\n",
    "df3.printSchema()\n",
    "display(df3)"
   ]
  },
  {
   "cell_type": "markdown",
   "metadata": {
    "application/vnd.databricks.v1+cell": {
     "cellMetadata": {},
     "inputWidgets": {},
     "nuid": "01a96e3b-5b4a-4d89-805c-70b05e905017",
     "showTitle": false,
     "tableResultSettingsMap": {},
     "title": ""
    }
   },
   "source": [
    "EXPLODE OUTER TO CONSIDER NULL VALUES ALSO \n"
   ]
  },
  {
   "cell_type": "code",
   "execution_count": 0,
   "metadata": {
    "application/vnd.databricks.v1+cell": {
     "cellMetadata": {
      "byteLimit": 2048000,
      "rowLimit": 10000
     },
     "inputWidgets": {},
     "nuid": "3f58d833-b365-4f00-acac-cecb4fc7d079",
     "showTitle": false,
     "tableResultSettingsMap": {},
     "title": ""
    }
   },
   "outputs": [
    {
     "output_type": "display_data",
     "data": {
      "text/html": [
       "<style scoped>\n",
       "  .table-result-container {\n",
       "    max-height: 300px;\n",
       "    overflow: auto;\n",
       "  }\n",
       "  table, th, td {\n",
       "    border: 1px solid black;\n",
       "    border-collapse: collapse;\n",
       "  }\n",
       "  th, td {\n",
       "    padding: 5px;\n",
       "  }\n",
       "  th {\n",
       "    text-align: left;\n",
       "  }\n",
       "</style><div class='table-result-container'><table class='table-result'><thead style='background-color: white'><tr><th>name</th><th>col</th></tr></thead><tbody><tr><td>Raja</td><td>TV</td></tr><tr><td>Raja</td><td>Fridge</td></tr><tr><td>Raja</td><td>Oven</td></tr><tr><td>Kumar</td><td>AC</td></tr><tr><td>Kumar</td><td>Washing machine</td></tr><tr><td>Kumar</td><td>null</td></tr><tr><td>Ram</td><td>Grinder</td></tr><tr><td>Ram</td><td>TV</td></tr><tr><td>Ram</td><td>AC</td></tr><tr><td>XXX</td><td>TV</td></tr><tr><td>XXX</td><td>null</td></tr><tr><td>YYYY</td><td>null</td></tr></tbody></table></div>"
      ]
     },
     "metadata": {
      "application/vnd.databricks.v1+output": {
       "addedWidgets": {},
       "aggData": [],
       "aggError": "",
       "aggOverflow": false,
       "aggSchema": [],
       "aggSeriesLimitReached": false,
       "aggType": "",
       "arguments": {},
       "columnCustomDisplayInfos": {},
       "data": [
        [
         "Raja",
         "TV"
        ],
        [
         "Raja",
         "Fridge"
        ],
        [
         "Raja",
         "Oven"
        ],
        [
         "Kumar",
         "AC"
        ],
        [
         "Kumar",
         "Washing machine"
        ],
        [
         "Kumar",
         null
        ],
        [
         "Ram",
         "Grinder"
        ],
        [
         "Ram",
         "TV"
        ],
        [
         "Ram",
         "AC"
        ],
        [
         "XXX",
         "TV"
        ],
        [
         "XXX",
         null
        ],
        [
         "YYYY",
         null
        ]
       ],
       "datasetInfos": [],
       "dbfsResultPath": null,
       "isJsonSchema": true,
       "metadata": {},
       "overflow": false,
       "plotOptions": {
        "customPlotOptions": {},
        "displayType": "table",
        "pivotAggregation": null,
        "pivotColumns": null,
        "xColumns": null,
        "yColumns": null
       },
       "removedWidgets": [],
       "schema": [
        {
         "metadata": "{}",
         "name": "name",
         "type": "\"string\""
        },
        {
         "metadata": "{}",
         "name": "col",
         "type": "\"string\""
        }
       ],
       "type": "table"
      }
     },
     "output_type": "display_data"
    },
    {
     "output_type": "display_data",
     "data": {
      "text/html": [
       "<style scoped>\n",
       "  .table-result-container {\n",
       "    max-height: 300px;\n",
       "    overflow: auto;\n",
       "  }\n",
       "  table, th, td {\n",
       "    border: 1px solid black;\n",
       "    border-collapse: collapse;\n",
       "  }\n",
       "  th, td {\n",
       "    padding: 5px;\n",
       "  }\n",
       "  th {\n",
       "    text-align: left;\n",
       "  }\n",
       "</style><div class='table-result-container'><table class='table-result'><thead style='background-color: white'><tr><th>name</th><th>key</th><th>value</th></tr></thead><tbody><tr><td>Raja</td><td>TV</td><td>Samsung</td></tr><tr><td>Raja</td><td>Oven</td><td>Onida</td></tr><tr><td>Raja</td><td>Fridge</td><td>HP</td></tr><tr><td>Kumar</td><td>AC</td><td>Apple</td></tr><tr><td>Kumar</td><td>Washing machine</td><td>BPL</td></tr><tr><td>Ram</td><td>AC</td><td>XXX</td></tr><tr><td>Ram</td><td>TV</td><td>YYY</td></tr><tr><td>Ram</td><td>Grinder</td><td>XXX</td></tr><tr><td>XXX</td><td>TV</td><td></td></tr><tr><td>YYYY</td><td>null</td><td>null</td></tr></tbody></table></div>"
      ]
     },
     "metadata": {
      "application/vnd.databricks.v1+output": {
       "addedWidgets": {},
       "aggData": [],
       "aggError": "",
       "aggOverflow": false,
       "aggSchema": [],
       "aggSeriesLimitReached": false,
       "aggType": "",
       "arguments": {},
       "columnCustomDisplayInfos": {},
       "data": [
        [
         "Raja",
         "TV",
         "Samsung"
        ],
        [
         "Raja",
         "Oven",
         "Onida"
        ],
        [
         "Raja",
         "Fridge",
         "HP"
        ],
        [
         "Kumar",
         "AC",
         "Apple"
        ],
        [
         "Kumar",
         "Washing machine",
         "BPL"
        ],
        [
         "Ram",
         "AC",
         "XXX"
        ],
        [
         "Ram",
         "TV",
         "YYY"
        ],
        [
         "Ram",
         "Grinder",
         "XXX"
        ],
        [
         "XXX",
         "TV",
         ""
        ],
        [
         "YYYY",
         null,
         null
        ]
       ],
       "datasetInfos": [],
       "dbfsResultPath": null,
       "isJsonSchema": true,
       "metadata": {},
       "overflow": false,
       "plotOptions": {
        "customPlotOptions": {},
        "displayType": "table",
        "pivotAggregation": null,
        "pivotColumns": null,
        "xColumns": null,
        "yColumns": null
       },
       "removedWidgets": [],
       "schema": [
        {
         "metadata": "{}",
         "name": "name",
         "type": "\"string\""
        },
        {
         "metadata": "{}",
         "name": "key",
         "type": "\"string\""
        },
        {
         "metadata": "{}",
         "name": "value",
         "type": "\"string\""
        }
       ],
       "type": "table"
      }
     },
     "output_type": "display_data"
    }
   ],
   "source": [
    "from pyspark.sql.functions import explode_outer\n",
    "\n",
    "display(df_app.select(df_app.name, explode_outer(df_app.appliances)))\n",
    "display(df_brand.select(df_brand.name, explode_outer(df_brand.brand)))\n"
   ]
  },
  {
   "cell_type": "markdown",
   "metadata": {
    "application/vnd.databricks.v1+cell": {
     "cellMetadata": {},
     "inputWidgets": {},
     "nuid": "2f726dde-08a7-4a85-8c08-13e29e61d945",
     "showTitle": false,
     "tableResultSettingsMap": {},
     "title": ""
    }
   },
   "source": [
    "POSEXPLODE , INCLUDES THE POSITION OF KEYS (without null values)"
   ]
  },
  {
   "cell_type": "code",
   "execution_count": 0,
   "metadata": {
    "application/vnd.databricks.v1+cell": {
     "cellMetadata": {
      "byteLimit": 2048000,
      "rowLimit": 10000
     },
     "inputWidgets": {},
     "nuid": "2e9bb284-c755-42b0-977b-eac8eb03a70a",
     "showTitle": false,
     "tableResultSettingsMap": {},
     "title": ""
    }
   },
   "outputs": [
    {
     "output_type": "display_data",
     "data": {
      "text/html": [
       "<style scoped>\n",
       "  .table-result-container {\n",
       "    max-height: 300px;\n",
       "    overflow: auto;\n",
       "  }\n",
       "  table, th, td {\n",
       "    border: 1px solid black;\n",
       "    border-collapse: collapse;\n",
       "  }\n",
       "  th, td {\n",
       "    padding: 5px;\n",
       "  }\n",
       "  th {\n",
       "    text-align: left;\n",
       "  }\n",
       "</style><div class='table-result-container'><table class='table-result'><thead style='background-color: white'><tr><th>name</th><th>pos</th><th>col</th></tr></thead><tbody><tr><td>Raja</td><td>0</td><td>TV</td></tr><tr><td>Raja</td><td>1</td><td>Fridge</td></tr><tr><td>Raja</td><td>2</td><td>Oven</td></tr><tr><td>Kumar</td><td>0</td><td>AC</td></tr><tr><td>Kumar</td><td>1</td><td>Washing machine</td></tr><tr><td>Kumar</td><td>2</td><td>null</td></tr><tr><td>Ram</td><td>0</td><td>Grinder</td></tr><tr><td>Ram</td><td>1</td><td>TV</td></tr><tr><td>Ram</td><td>2</td><td>AC</td></tr><tr><td>XXX</td><td>0</td><td>TV</td></tr><tr><td>XXX</td><td>1</td><td>null</td></tr><tr><td>YYYY</td><td>0</td><td>null</td></tr></tbody></table></div>"
      ]
     },
     "metadata": {
      "application/vnd.databricks.v1+output": {
       "addedWidgets": {},
       "aggData": [],
       "aggError": "",
       "aggOverflow": false,
       "aggSchema": [],
       "aggSeriesLimitReached": false,
       "aggType": "",
       "arguments": {},
       "columnCustomDisplayInfos": {},
       "data": [
        [
         "Raja",
         0,
         "TV"
        ],
        [
         "Raja",
         1,
         "Fridge"
        ],
        [
         "Raja",
         2,
         "Oven"
        ],
        [
         "Kumar",
         0,
         "AC"
        ],
        [
         "Kumar",
         1,
         "Washing machine"
        ],
        [
         "Kumar",
         2,
         null
        ],
        [
         "Ram",
         0,
         "Grinder"
        ],
        [
         "Ram",
         1,
         "TV"
        ],
        [
         "Ram",
         2,
         "AC"
        ],
        [
         "XXX",
         0,
         "TV"
        ],
        [
         "XXX",
         1,
         null
        ],
        [
         "YYYY",
         0,
         null
        ]
       ],
       "datasetInfos": [],
       "dbfsResultPath": null,
       "isJsonSchema": true,
       "metadata": {},
       "overflow": false,
       "plotOptions": {
        "customPlotOptions": {},
        "displayType": "table",
        "pivotAggregation": null,
        "pivotColumns": null,
        "xColumns": null,
        "yColumns": null
       },
       "removedWidgets": [],
       "schema": [
        {
         "metadata": "{}",
         "name": "name",
         "type": "\"string\""
        },
        {
         "metadata": "{}",
         "name": "pos",
         "type": "\"integer\""
        },
        {
         "metadata": "{}",
         "name": "col",
         "type": "\"string\""
        }
       ],
       "type": "table"
      }
     },
     "output_type": "display_data"
    },
    {
     "output_type": "display_data",
     "data": {
      "text/html": [
       "<style scoped>\n",
       "  .table-result-container {\n",
       "    max-height: 300px;\n",
       "    overflow: auto;\n",
       "  }\n",
       "  table, th, td {\n",
       "    border: 1px solid black;\n",
       "    border-collapse: collapse;\n",
       "  }\n",
       "  th, td {\n",
       "    padding: 5px;\n",
       "  }\n",
       "  th {\n",
       "    text-align: left;\n",
       "  }\n",
       "</style><div class='table-result-container'><table class='table-result'><thead style='background-color: white'><tr><th>name</th><th>pos</th><th>key</th><th>value</th></tr></thead><tbody><tr><td>Raja</td><td>0</td><td>TV</td><td>Samsung</td></tr><tr><td>Raja</td><td>1</td><td>Oven</td><td>Onida</td></tr><tr><td>Raja</td><td>2</td><td>Fridge</td><td>HP</td></tr><tr><td>Kumar</td><td>0</td><td>AC</td><td>Apple</td></tr><tr><td>Kumar</td><td>1</td><td>Washing machine</td><td>BPL</td></tr><tr><td>Ram</td><td>0</td><td>AC</td><td>XXX</td></tr><tr><td>Ram</td><td>1</td><td>TV</td><td>YYY</td></tr><tr><td>Ram</td><td>2</td><td>Grinder</td><td>XXX</td></tr><tr><td>XXX</td><td>0</td><td>TV</td><td></td></tr></tbody></table></div>"
      ]
     },
     "metadata": {
      "application/vnd.databricks.v1+output": {
       "addedWidgets": {},
       "aggData": [],
       "aggError": "",
       "aggOverflow": false,
       "aggSchema": [],
       "aggSeriesLimitReached": false,
       "aggType": "",
       "arguments": {},
       "columnCustomDisplayInfos": {},
       "data": [
        [
         "Raja",
         0,
         "TV",
         "Samsung"
        ],
        [
         "Raja",
         1,
         "Oven",
         "Onida"
        ],
        [
         "Raja",
         2,
         "Fridge",
         "HP"
        ],
        [
         "Kumar",
         0,
         "AC",
         "Apple"
        ],
        [
         "Kumar",
         1,
         "Washing machine",
         "BPL"
        ],
        [
         "Ram",
         0,
         "AC",
         "XXX"
        ],
        [
         "Ram",
         1,
         "TV",
         "YYY"
        ],
        [
         "Ram",
         2,
         "Grinder",
         "XXX"
        ],
        [
         "XXX",
         0,
         "TV",
         ""
        ]
       ],
       "datasetInfos": [],
       "dbfsResultPath": null,
       "isJsonSchema": true,
       "metadata": {},
       "overflow": false,
       "plotOptions": {
        "customPlotOptions": {},
        "displayType": "table",
        "pivotAggregation": null,
        "pivotColumns": null,
        "xColumns": null,
        "yColumns": null
       },
       "removedWidgets": [],
       "schema": [
        {
         "metadata": "{}",
         "name": "name",
         "type": "\"string\""
        },
        {
         "metadata": "{}",
         "name": "pos",
         "type": "\"integer\""
        },
        {
         "metadata": "{}",
         "name": "key",
         "type": "\"string\""
        },
        {
         "metadata": "{}",
         "name": "value",
         "type": "\"string\""
        }
       ],
       "type": "table"
      }
     },
     "output_type": "display_data"
    }
   ],
   "source": [
    "from pyspark.sql.functions import posexplode\n",
    "\n",
    "display(df_app.select(df_app.name, posexplode(df_app.appliances)))\n",
    "display(df_brand.select(df_brand.name, posexplode(df_brand.brand)))"
   ]
  },
  {
   "cell_type": "markdown",
   "metadata": {
    "application/vnd.databricks.v1+cell": {
     "cellMetadata": {},
     "inputWidgets": {},
     "nuid": "c91d7211-40e8-489d-958c-eeb60cb422dc",
     "showTitle": false,
     "tableResultSettingsMap": {},
     "title": ""
    }
   },
   "source": [
    "POSEXPLODE_OUTER WITH NULL VALUES INCLUDED IN IT "
   ]
  },
  {
   "cell_type": "code",
   "execution_count": 0,
   "metadata": {
    "application/vnd.databricks.v1+cell": {
     "cellMetadata": {
      "byteLimit": 2048000,
      "rowLimit": 10000
     },
     "inputWidgets": {},
     "nuid": "6e12ecc6-db6c-487e-93a7-deda4249d131",
     "showTitle": false,
     "tableResultSettingsMap": {},
     "title": ""
    }
   },
   "outputs": [
    {
     "output_type": "display_data",
     "data": {
      "text/html": [
       "<style scoped>\n",
       "  .table-result-container {\n",
       "    max-height: 300px;\n",
       "    overflow: auto;\n",
       "  }\n",
       "  table, th, td {\n",
       "    border: 1px solid black;\n",
       "    border-collapse: collapse;\n",
       "  }\n",
       "  th, td {\n",
       "    padding: 5px;\n",
       "  }\n",
       "  th {\n",
       "    text-align: left;\n",
       "  }\n",
       "</style><div class='table-result-container'><table class='table-result'><thead style='background-color: white'><tr><th>name</th><th>pos</th><th>col</th></tr></thead><tbody><tr><td>Raja</td><td>0</td><td>TV</td></tr><tr><td>Raja</td><td>1</td><td>Fridge</td></tr><tr><td>Raja</td><td>2</td><td>Oven</td></tr><tr><td>Kumar</td><td>0</td><td>AC</td></tr><tr><td>Kumar</td><td>1</td><td>Washing machine</td></tr><tr><td>Kumar</td><td>2</td><td>null</td></tr><tr><td>Ram</td><td>0</td><td>Grinder</td></tr><tr><td>Ram</td><td>1</td><td>TV</td></tr><tr><td>Ram</td><td>2</td><td>AC</td></tr><tr><td>XXX</td><td>0</td><td>TV</td></tr><tr><td>XXX</td><td>1</td><td>null</td></tr><tr><td>YYYY</td><td>0</td><td>null</td></tr></tbody></table></div>"
      ]
     },
     "metadata": {
      "application/vnd.databricks.v1+output": {
       "addedWidgets": {},
       "aggData": [],
       "aggError": "",
       "aggOverflow": false,
       "aggSchema": [],
       "aggSeriesLimitReached": false,
       "aggType": "",
       "arguments": {},
       "columnCustomDisplayInfos": {},
       "data": [
        [
         "Raja",
         0,
         "TV"
        ],
        [
         "Raja",
         1,
         "Fridge"
        ],
        [
         "Raja",
         2,
         "Oven"
        ],
        [
         "Kumar",
         0,
         "AC"
        ],
        [
         "Kumar",
         1,
         "Washing machine"
        ],
        [
         "Kumar",
         2,
         null
        ],
        [
         "Ram",
         0,
         "Grinder"
        ],
        [
         "Ram",
         1,
         "TV"
        ],
        [
         "Ram",
         2,
         "AC"
        ],
        [
         "XXX",
         0,
         "TV"
        ],
        [
         "XXX",
         1,
         null
        ],
        [
         "YYYY",
         0,
         null
        ]
       ],
       "datasetInfos": [],
       "dbfsResultPath": null,
       "isJsonSchema": true,
       "metadata": {},
       "overflow": false,
       "plotOptions": {
        "customPlotOptions": {},
        "displayType": "table",
        "pivotAggregation": null,
        "pivotColumns": null,
        "xColumns": null,
        "yColumns": null
       },
       "removedWidgets": [],
       "schema": [
        {
         "metadata": "{}",
         "name": "name",
         "type": "\"string\""
        },
        {
         "metadata": "{}",
         "name": "pos",
         "type": "\"integer\""
        },
        {
         "metadata": "{}",
         "name": "col",
         "type": "\"string\""
        }
       ],
       "type": "table"
      }
     },
     "output_type": "display_data"
    },
    {
     "output_type": "display_data",
     "data": {
      "text/html": [
       "<style scoped>\n",
       "  .table-result-container {\n",
       "    max-height: 300px;\n",
       "    overflow: auto;\n",
       "  }\n",
       "  table, th, td {\n",
       "    border: 1px solid black;\n",
       "    border-collapse: collapse;\n",
       "  }\n",
       "  th, td {\n",
       "    padding: 5px;\n",
       "  }\n",
       "  th {\n",
       "    text-align: left;\n",
       "  }\n",
       "</style><div class='table-result-container'><table class='table-result'><thead style='background-color: white'><tr><th>name</th><th>pos</th><th>key</th><th>value</th></tr></thead><tbody><tr><td>Raja</td><td>0</td><td>TV</td><td>Samsung</td></tr><tr><td>Raja</td><td>1</td><td>Oven</td><td>Onida</td></tr><tr><td>Raja</td><td>2</td><td>Fridge</td><td>HP</td></tr><tr><td>Kumar</td><td>0</td><td>AC</td><td>Apple</td></tr><tr><td>Kumar</td><td>1</td><td>Washing machine</td><td>BPL</td></tr><tr><td>Ram</td><td>0</td><td>AC</td><td>XXX</td></tr><tr><td>Ram</td><td>1</td><td>TV</td><td>YYY</td></tr><tr><td>Ram</td><td>2</td><td>Grinder</td><td>XXX</td></tr><tr><td>XXX</td><td>0</td><td>TV</td><td></td></tr><tr><td>YYYY</td><td>null</td><td>null</td><td>null</td></tr></tbody></table></div>"
      ]
     },
     "metadata": {
      "application/vnd.databricks.v1+output": {
       "addedWidgets": {},
       "aggData": [],
       "aggError": "",
       "aggOverflow": false,
       "aggSchema": [],
       "aggSeriesLimitReached": false,
       "aggType": "",
       "arguments": {},
       "columnCustomDisplayInfos": {},
       "data": [
        [
         "Raja",
         0,
         "TV",
         "Samsung"
        ],
        [
         "Raja",
         1,
         "Oven",
         "Onida"
        ],
        [
         "Raja",
         2,
         "Fridge",
         "HP"
        ],
        [
         "Kumar",
         0,
         "AC",
         "Apple"
        ],
        [
         "Kumar",
         1,
         "Washing machine",
         "BPL"
        ],
        [
         "Ram",
         0,
         "AC",
         "XXX"
        ],
        [
         "Ram",
         1,
         "TV",
         "YYY"
        ],
        [
         "Ram",
         2,
         "Grinder",
         "XXX"
        ],
        [
         "XXX",
         0,
         "TV",
         ""
        ],
        [
         "YYYY",
         null,
         null,
         null
        ]
       ],
       "datasetInfos": [],
       "dbfsResultPath": null,
       "isJsonSchema": true,
       "metadata": {},
       "overflow": false,
       "plotOptions": {
        "customPlotOptions": {},
        "displayType": "table",
        "pivotAggregation": null,
        "pivotColumns": null,
        "xColumns": null,
        "yColumns": null
       },
       "removedWidgets": [],
       "schema": [
        {
         "metadata": "{}",
         "name": "name",
         "type": "\"string\""
        },
        {
         "metadata": "{}",
         "name": "pos",
         "type": "\"integer\""
        },
        {
         "metadata": "{}",
         "name": "key",
         "type": "\"string\""
        },
        {
         "metadata": "{}",
         "name": "value",
         "type": "\"string\""
        }
       ],
       "type": "table"
      }
     },
     "output_type": "display_data"
    }
   ],
   "source": [
    "from pyspark.sql.functions import posexplode_outer\n",
    "\n",
    "display(df_app.select(df_app.name, posexplode_outer(df_app.appliances)))\n",
    "display(df_brand.select(df_brand.name, posexplode_outer(df_brand.brand)))"
   ]
  },
  {
   "cell_type": "code",
   "execution_count": 0,
   "metadata": {
    "application/vnd.databricks.v1+cell": {
     "cellMetadata": {
      "byteLimit": 2048000,
      "rowLimit": 10000
     },
     "inputWidgets": {},
     "nuid": "51c16886-deb5-4baa-ab5a-82fc39f8d784",
     "showTitle": false,
     "tableResultSettingsMap": {},
     "title": ""
    }
   },
   "outputs": [],
   "source": []
  }
 ],
 "metadata": {
  "application/vnd.databricks.v1+notebook": {
   "computePreferences": null,
   "dashboards": [],
   "environmentMetadata": {
    "base_environment": "",
    "client": "1"
   },
   "language": "python",
   "notebookMetadata": {
    "pythonIndentUnit": 4
   },
   "notebookName": "Explode",
   "widgets": {}
  }
 },
 "nbformat": 4,
 "nbformat_minor": 0
}
