{
 "cells": [
  {
   "cell_type": "markdown",
   "metadata": {
    "application/vnd.databricks.v1+cell": {
     "cellMetadata": {},
     "inputWidgets": {},
     "nuid": "7cf894b0-3cbb-4402-b2e3-f12711bd531e",
     "showTitle": false,
     "tableResultSettingsMap": {},
     "title": ""
    }
   },
   "source": [
    "CAB DETAILS "
   ]
  },
  {
   "cell_type": "code",
   "execution_count": 0,
   "metadata": {
    "application/vnd.databricks.v1+cell": {
     "cellMetadata": {
      "byteLimit": 2048000,
      "rowLimit": 10000
     },
     "inputWidgets": {},
     "nuid": "76749a21-7225-4b01-8495-c173413275b9",
     "showTitle": false,
     "tableResultSettingsMap": {},
     "title": ""
    }
   },
   "outputs": [
    {
     "output_type": "display_data",
     "data": {
      "text/html": [
       "<style scoped>\n",
       "  .table-result-container {\n",
       "    max-height: 300px;\n",
       "    overflow: auto;\n",
       "  }\n",
       "  table, th, td {\n",
       "    border: 1px solid black;\n",
       "    border-collapse: collapse;\n",
       "  }\n",
       "  th, td {\n",
       "    padding: 5px;\n",
       "  }\n",
       "  th {\n",
       "    text-align: left;\n",
       "  }\n",
       "</style><div class='table-result-container'><table class='table-result'><thead style='background-color: white'><tr><th>id</th><th>state</th><th>city</th><th>seater</th><th>charge</th></tr></thead><tbody><tr><td>1</td><td>Jharkhand</td><td>Jamshedpur</td><td>4</td><td>3000</td></tr><tr><td>2</td><td>Bihar</td><td>Purnea</td><td>3</td><td>2250</td></tr><tr><td>3</td><td>Jharkhand</td><td>Jamshedpur</td><td>4</td><td>3000</td></tr><tr><td>4</td><td>West Bengal</td><td>Kolkata</td><td>2</td><td>1750</td></tr><tr><td>5</td><td>West Bengal</td><td>Siliguri</td><td>4</td><td>3500</td></tr><tr><td>6</td><td>Jharkhand</td><td>Ranchi</td><td>4</td><td>3000</td></tr><tr><td>7</td><td>Bihar</td><td>Sasaram</td><td>3</td><td>2100</td></tr></tbody></table></div>"
      ]
     },
     "metadata": {
      "application/vnd.databricks.v1+output": {
       "addedWidgets": {},
       "aggData": [],
       "aggError": "",
       "aggOverflow": false,
       "aggSchema": [],
       "aggSeriesLimitReached": false,
       "aggType": "",
       "arguments": {},
       "columnCustomDisplayInfos": {},
       "data": [
        [
         1,
         "Jharkhand",
         "Jamshedpur",
         4,
         3000
        ],
        [
         2,
         "Bihar",
         "Purnea",
         3,
         2250
        ],
        [
         3,
         "Jharkhand",
         "Jamshedpur",
         4,
         3000
        ],
        [
         4,
         "West Bengal",
         "Kolkata",
         2,
         1750
        ],
        [
         5,
         "West Bengal",
         "Siliguri",
         4,
         3500
        ],
        [
         6,
         "Jharkhand",
         "Ranchi",
         4,
         3000
        ],
        [
         7,
         "Bihar",
         "Sasaram",
         3,
         2100
        ]
       ],
       "datasetInfos": [],
       "dbfsResultPath": null,
       "isJsonSchema": true,
       "metadata": {},
       "overflow": false,
       "plotOptions": {
        "customPlotOptions": {},
        "displayType": "table",
        "pivotAggregation": null,
        "pivotColumns": null,
        "xColumns": null,
        "yColumns": null
       },
       "removedWidgets": [],
       "schema": [
        {
         "metadata": "{}",
         "name": "id",
         "type": "\"long\""
        },
        {
         "metadata": "{}",
         "name": "state",
         "type": "\"string\""
        },
        {
         "metadata": "{}",
         "name": "city",
         "type": "\"string\""
        },
        {
         "metadata": "{}",
         "name": "seater",
         "type": "\"long\""
        },
        {
         "metadata": "{}",
         "name": "charge",
         "type": "\"long\""
        }
       ],
       "type": "table"
      }
     },
     "output_type": "display_data"
    }
   ],
   "source": [
    "cab_details = [(1,'Jharkhand','Jamshedpur',4,3000),\n",
    "(2,'Bihar','Purnea',3,2250),\n",
    "(3,'Jharkhand','Jamshedpur',4,3000),\n",
    "(4,'West Bengal','Kolkata',2,1750),\n",
    "(5,'West Bengal','Siliguri',4,3500),\n",
    "(6,'Jharkhand','Ranchi',4,3000),\n",
    "(7,'Bihar','Sasaram',3,2100)]\n",
    "\n",
    "cab_schema= [\"id\", \"state\", \"city\", \"seater\", \"charge\"]\n",
    "cabDF = spark.createDataFrame(data= cab_details, schema = cab_schema)\n",
    "display(cabDF) "
   ]
  },
  {
   "cell_type": "markdown",
   "metadata": {
    "application/vnd.databricks.v1+cell": {
     "cellMetadata": {},
     "inputWidgets": {},
     "nuid": "6522b5a8-e466-4e9f-b0aa-386540af1176",
     "showTitle": false,
     "tableResultSettingsMap": {},
     "title": ""
    }
   },
   "source": [
    "DRIVER DETAILS "
   ]
  },
  {
   "cell_type": "code",
   "execution_count": 0,
   "metadata": {
    "application/vnd.databricks.v1+cell": {
     "cellMetadata": {
      "byteLimit": 2048000,
      "rowLimit": 10000
     },
     "inputWidgets": {},
     "nuid": "fb01299f-7376-4d6d-af91-ca65178d89f5",
     "showTitle": false,
     "tableResultSettingsMap": {},
     "title": ""
    }
   },
   "outputs": [
    {
     "output_type": "display_data",
     "data": {
      "text/html": [
       "<style scoped>\n",
       "  .table-result-container {\n",
       "    max-height: 300px;\n",
       "    overflow: auto;\n",
       "  }\n",
       "  table, th, td {\n",
       "    border: 1px solid black;\n",
       "    border-collapse: collapse;\n",
       "  }\n",
       "  th, td {\n",
       "    padding: 5px;\n",
       "  }\n",
       "  th {\n",
       "    text-align: left;\n",
       "  }\n",
       "</style><div class='table-result-container'><table class='table-result'><thead style='background-color: white'><tr><th>id</th><th>Name</th><th>State</th><th>seater</th><th>Min_rent</th><th>max_rent</th></tr></thead><tbody><tr><td>1</td><td>Ram</td><td>Jharkhand</td><td>3</td><td>2500</td><td>3200</td></tr><tr><td>2</td><td>Shyam</td><td>West Bengal</td><td>2</td><td>1500</td><td>2500</td></tr><tr><td>3</td><td>Suresh</td><td>West Bengal</td><td>4</td><td>2500</td><td>4000</td></tr><tr><td>4</td><td>Mahesh</td><td>Bihar</td><td>3</td><td>2200</td><td>2500</td></tr><tr><td>5</td><td>Raj</td><td>Bihar</td><td>3</td><td>1800</td><td>2300</td></tr></tbody></table></div>"
      ]
     },
     "metadata": {
      "application/vnd.databricks.v1+output": {
       "addedWidgets": {},
       "aggData": [],
       "aggError": "",
       "aggOverflow": false,
       "aggSchema": [],
       "aggSeriesLimitReached": false,
       "aggType": "",
       "arguments": {},
       "columnCustomDisplayInfos": {},
       "data": [
        [
         1,
         "Ram",
         "Jharkhand",
         3,
         2500,
         3200
        ],
        [
         2,
         "Shyam",
         "West Bengal",
         2,
         1500,
         2500
        ],
        [
         3,
         "Suresh",
         "West Bengal",
         4,
         2500,
         4000
        ],
        [
         4,
         "Mahesh",
         "Bihar",
         3,
         2200,
         2500
        ],
        [
         5,
         "Raj",
         "Bihar",
         3,
         1800,
         2300
        ]
       ],
       "datasetInfos": [],
       "dbfsResultPath": null,
       "isJsonSchema": true,
       "metadata": {},
       "overflow": false,
       "plotOptions": {
        "customPlotOptions": {},
        "displayType": "table",
        "pivotAggregation": null,
        "pivotColumns": null,
        "xColumns": null,
        "yColumns": null
       },
       "removedWidgets": [],
       "schema": [
        {
         "metadata": "{}",
         "name": "id",
         "type": "\"long\""
        },
        {
         "metadata": "{}",
         "name": "Name",
         "type": "\"string\""
        },
        {
         "metadata": "{}",
         "name": "State",
         "type": "\"string\""
        },
        {
         "metadata": "{}",
         "name": "seater",
         "type": "\"long\""
        },
        {
         "metadata": "{}",
         "name": "Min_rent",
         "type": "\"long\""
        },
        {
         "metadata": "{}",
         "name": "max_rent",
         "type": "\"long\""
        }
       ],
       "type": "table"
      }
     },
     "output_type": "display_data"
    }
   ],
   "source": [
    "driver_details = [(1,'Ram','Jharkhand',3,2500,3200),\n",
    "(2,'Shyam','West Bengal',2,1500,2500),\n",
    "(3,'Suresh','West Bengal',4,2500,4000),\n",
    "(4,'Mahesh','Bihar',3,2200,2500),\n",
    "(5,'Raj','Bihar',3,1800,2300)]\n",
    "\n",
    "driver_schema = [\"id\", \"Name\", \"State\", \"seater\", \"Min_rent\", \"max_rent\"]\n",
    "driverDF = spark.createDataFrame(data= driver_details, schema = driver_schema)\n",
    "display(driverDF) "
   ]
  },
  {
   "cell_type": "code",
   "execution_count": 0,
   "metadata": {
    "application/vnd.databricks.v1+cell": {
     "cellMetadata": {},
     "inputWidgets": {},
     "nuid": "4399951a-a5b4-4ca8-af18-7a93ffcf2abe",
     "showTitle": false,
     "tableResultSettingsMap": {},
     "title": ""
    }
   },
   "outputs": [],
   "source": [
    "JOINS KEYWORDS\n",
    "INNER JOIN : INNER \n",
    "FULL OUTER JOIN : OUTER , FULL\n",
    "LEFT OUTER : LEFT, LEFTOUTER \n",
    "RIGHT OUTER : RIGHT , RIGHTOUTER \n",
    "LEFT SEMI : SEMI, LEFTSEMI \n",
    "LEFT ANTI : ANTI, LEFTANTI \n"
   ]
  },
  {
   "cell_type": "markdown",
   "metadata": {
    "application/vnd.databricks.v1+cell": {
     "cellMetadata": {},
     "inputWidgets": {},
     "nuid": "48f5e7ac-adf2-4ff0-a4eb-0c84127cc343",
     "showTitle": false,
     "tableResultSettingsMap": {},
     "title": ""
    }
   },
   "source": []
  },
  {
   "cell_type": "code",
   "execution_count": 0,
   "metadata": {
    "application/vnd.databricks.v1+cell": {
     "cellMetadata": {
      "byteLimit": 2048000,
      "rowLimit": 10000
     },
     "inputWidgets": {},
     "nuid": "21645c1a-ef8a-4390-adcc-5291c77c1c30",
     "showTitle": false,
     "tableResultSettingsMap": {},
     "title": ""
    }
   },
   "outputs": [
    {
     "output_type": "display_data",
     "data": {
      "text/html": [
       "<style scoped>\n",
       "  .table-result-container {\n",
       "    max-height: 300px;\n",
       "    overflow: auto;\n",
       "  }\n",
       "  table, th, td {\n",
       "    border: 1px solid black;\n",
       "    border-collapse: collapse;\n",
       "  }\n",
       "  th, td {\n",
       "    padding: 5px;\n",
       "  }\n",
       "  th {\n",
       "    text-align: left;\n",
       "  }\n",
       "</style><div class='table-result-container'><table class='table-result'><thead style='background-color: white'><tr><th>id</th><th>state</th><th>city</th><th>seater</th><th>charge</th><th>id</th><th>Name</th><th>State</th><th>seater</th><th>Min_rent</th><th>max_rent</th></tr></thead><tbody><tr><td>1</td><td>Jharkhand</td><td>Jamshedpur</td><td>4</td><td>3000</td><td>1</td><td>Ram</td><td>Jharkhand</td><td>3</td><td>2500</td><td>3200</td></tr><tr><td>2</td><td>Bihar</td><td>Purnea</td><td>3</td><td>2250</td><td>2</td><td>Shyam</td><td>West Bengal</td><td>2</td><td>1500</td><td>2500</td></tr><tr><td>3</td><td>Jharkhand</td><td>Jamshedpur</td><td>4</td><td>3000</td><td>3</td><td>Suresh</td><td>West Bengal</td><td>4</td><td>2500</td><td>4000</td></tr><tr><td>4</td><td>West Bengal</td><td>Kolkata</td><td>2</td><td>1750</td><td>4</td><td>Mahesh</td><td>Bihar</td><td>3</td><td>2200</td><td>2500</td></tr><tr><td>5</td><td>West Bengal</td><td>Siliguri</td><td>4</td><td>3500</td><td>5</td><td>Raj</td><td>Bihar</td><td>3</td><td>1800</td><td>2300</td></tr></tbody></table></div>"
      ]
     },
     "metadata": {
      "application/vnd.databricks.v1+output": {
       "addedWidgets": {},
       "aggData": [],
       "aggError": "",
       "aggOverflow": false,
       "aggSchema": [],
       "aggSeriesLimitReached": false,
       "aggType": "",
       "arguments": {},
       "columnCustomDisplayInfos": {},
       "data": [
        [
         1,
         "Jharkhand",
         "Jamshedpur",
         4,
         3000,
         1,
         "Ram",
         "Jharkhand",
         3,
         2500,
         3200
        ],
        [
         2,
         "Bihar",
         "Purnea",
         3,
         2250,
         2,
         "Shyam",
         "West Bengal",
         2,
         1500,
         2500
        ],
        [
         3,
         "Jharkhand",
         "Jamshedpur",
         4,
         3000,
         3,
         "Suresh",
         "West Bengal",
         4,
         2500,
         4000
        ],
        [
         4,
         "West Bengal",
         "Kolkata",
         2,
         1750,
         4,
         "Mahesh",
         "Bihar",
         3,
         2200,
         2500
        ],
        [
         5,
         "West Bengal",
         "Siliguri",
         4,
         3500,
         5,
         "Raj",
         "Bihar",
         3,
         1800,
         2300
        ]
       ],
       "datasetInfos": [],
       "dbfsResultPath": null,
       "isJsonSchema": true,
       "metadata": {},
       "overflow": false,
       "plotOptions": {
        "customPlotOptions": {},
        "displayType": "table",
        "pivotAggregation": null,
        "pivotColumns": null,
        "xColumns": null,
        "yColumns": null
       },
       "removedWidgets": [],
       "schema": [
        {
         "metadata": "{}",
         "name": "id",
         "type": "\"long\""
        },
        {
         "metadata": "{}",
         "name": "state",
         "type": "\"string\""
        },
        {
         "metadata": "{}",
         "name": "city",
         "type": "\"string\""
        },
        {
         "metadata": "{}",
         "name": "seater",
         "type": "\"long\""
        },
        {
         "metadata": "{}",
         "name": "charge",
         "type": "\"long\""
        },
        {
         "metadata": "{}",
         "name": "id",
         "type": "\"long\""
        },
        {
         "metadata": "{}",
         "name": "Name",
         "type": "\"string\""
        },
        {
         "metadata": "{}",
         "name": "State",
         "type": "\"string\""
        },
        {
         "metadata": "{}",
         "name": "seater",
         "type": "\"long\""
        },
        {
         "metadata": "{}",
         "name": "Min_rent",
         "type": "\"long\""
        },
        {
         "metadata": "{}",
         "name": "max_rent",
         "type": "\"long\""
        }
       ],
       "type": "table"
      }
     },
     "output_type": "display_data"
    }
   ],
   "source": [
    "df_join = cabDF.join (driverDF, cabDF.id == driverDF.id, \"inner\")\n",
    "display(df_join)"
   ]
  },
  {
   "cell_type": "code",
   "execution_count": 0,
   "metadata": {
    "application/vnd.databricks.v1+cell": {
     "cellMetadata": {},
     "inputWidgets": {},
     "nuid": "76f65487-7997-4c5f-98d5-b4c01f538b37",
     "showTitle": false,
     "tableResultSettingsMap": {},
     "title": ""
    }
   },
   "outputs": [],
   "source": []
  },
  {
   "cell_type": "code",
   "execution_count": 0,
   "metadata": {
    "application/vnd.databricks.v1+cell": {
     "cellMetadata": {},
     "inputWidgets": {},
     "nuid": "2b0570b1-b6fb-4736-b5da-acd9e24ad2ad",
     "showTitle": false,
     "tableResultSettingsMap": {},
     "title": ""
    }
   },
   "outputs": [],
   "source": []
  },
  {
   "cell_type": "code",
   "execution_count": 0,
   "metadata": {
    "application/vnd.databricks.v1+cell": {
     "cellMetadata": {},
     "inputWidgets": {},
     "nuid": "2ac3b54b-20e7-4ce0-9fa4-adab62b1c115",
     "showTitle": false,
     "tableResultSettingsMap": {},
     "title": ""
    }
   },
   "outputs": [],
   "source": []
  },
  {
   "cell_type": "code",
   "execution_count": 0,
   "metadata": {
    "application/vnd.databricks.v1+cell": {
     "cellMetadata": {},
     "inputWidgets": {},
     "nuid": "e7dbd19b-6505-44b1-9b92-60aff3e9d6d0",
     "showTitle": false,
     "tableResultSettingsMap": {},
     "title": ""
    }
   },
   "outputs": [],
   "source": []
  },
  {
   "cell_type": "code",
   "execution_count": 0,
   "metadata": {
    "application/vnd.databricks.v1+cell": {
     "cellMetadata": {},
     "inputWidgets": {},
     "nuid": "e293cba2-4e10-4252-a44e-58fda6030991",
     "showTitle": false,
     "tableResultSettingsMap": {},
     "title": ""
    }
   },
   "outputs": [],
   "source": []
  },
  {
   "cell_type": "code",
   "execution_count": 0,
   "metadata": {
    "application/vnd.databricks.v1+cell": {
     "cellMetadata": {},
     "inputWidgets": {},
     "nuid": "c2d7c956-b49d-4c07-9397-af01ff70a5b3",
     "showTitle": false,
     "tableResultSettingsMap": {},
     "title": ""
    }
   },
   "outputs": [],
   "source": []
  }
 ],
 "metadata": {
  "application/vnd.databricks.v1+notebook": {
   "computePreferences": null,
   "dashboards": [],
   "environmentMetadata": {
    "base_environment": "",
    "client": "1"
   },
   "language": "python",
   "notebookMetadata": {
    "pythonIndentUnit": 4
   },
   "notebookName": "JOINS",
   "widgets": {}
  }
 },
 "nbformat": 4,
 "nbformat_minor": 0
}
